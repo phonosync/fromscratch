{
 "cells": [
  {
   "cell_type": "markdown",
   "metadata": {},
   "source": [
    "## Recap Matrix Multiplication\n",
    "Produces a matrix from two matrices\n",
    "\n",
    "<img src=\"pics/mmult.png\">\n",
    "The number of columns in the first matrix (m) must be equal to the number of rows in the second matrix. The result matrix has the number of rows of the first (l) and the number of columns of the second matrix (n).  \n",
    "\n",
    "\n",
    "If $\\mathbf{A}$ is an $m \\times n$ matrix and $\\mathbf{B}$ is an $n \\times p$ matrix\n",
    "$$\n",
    "\\mathbf{A}=\\begin{pmatrix}\n",
    " a_{11} & a_{12} & \\cdots & a_{1n} \\\\\n",
    " a_{21} & a_{22} & \\cdots & a_{2n} \\\\\n",
    "\\vdots & \\vdots & \\ddots & \\vdots \\\\\n",
    " a_{m1} & a_{m2} & \\cdots & a_{mn} \\\\\n",
    "\\end{pmatrix},\\quad\\mathbf{B}=\\begin{pmatrix}\n",
    " b_{11} & b_{12} & \\cdots & b_{1p} \\\\\n",
    " b_{21} & b_{22} & \\cdots & b_{2p} \\\\\n",
    "\\vdots & \\vdots & \\ddots & \\vdots \\\\\n",
    " b_{n1} & b_{n2} & \\cdots & b_{np} \\\\\n",
    "\\end{pmatrix}\n",
    "$$\n",
    "\n",
    "the matrix product $\\mathbf{C} = \\mathbf{AB}$ is defined to be the $m \\times p$\n",
    "\n",
    "$\\mathbf{C}=\\begin{pmatrix}\n",
    " c_{11} & c_{12} & \\cdots & c_{1p} \\\\\n",
    " c_{21} & c_{22} & \\cdots & c_{2p} \\\\\n",
    "\\vdots & \\vdots & \\ddots & \\vdots \\\\\n",
    " c_{m1} & c_{m2} & \\cdots & c_{mp} \\\\\n",
    "\\end{pmatrix}$\n",
    "\n",
    "such that \n",
    "$$c_{ij} = a_{i1}b_{1j} + a_{i2}b_{2j} +\\cdots + a_{in}b_{nj}= \\sum_{k=1}^n a_{ik}b_{kj} \\;\\;\\; \\text{for}\\ i = 1, ..., m\\ \\text{and}\\ j = 1, ..., p.$$\n",
    "\n",
    "<img src=\"pics/mmultillust.png\">\n",
    "\n",
    "The corresponding operation on vectors is referred to as dot product or scalar product. If two vectors $\\mathbf{\\color{red}a} = \\left[\\color{red}a_\\color{red}1, \\color{red}a_\\color{red}2, ..., \\color{red}a_\\color{red}n\\right]$ and $\\mathbf{\\color{blue}b} = \\left[\\color{blue}b_\\color{blue}1, \\color{blue}b_\\color{blue}2, ..., \\color{blue}b_\\color{blue}n\\right]$\n",
    "\n",
    "are identified as row matrices:\n",
    "\n",
    "$$\\begin{align}\n",
    "\\mathbf{\\color{red}a} \\cdot \\mathbf{\\color{blue}b} &= \\mathbf{\\color{red}a}\\mathbf{\\color{blue}b}^\\top\\\\\n",
    "&=\\sum_{i=1}^n {\\color{red}a}_i{\\color{blue}b}_i\\\\\n",
    "&={\\color{red}a}_1{\\color{blue}b}_1+{\\color{red}a}_2{\\color{blue}b}_2+\\cdots+{\\color{red}a}_n{\\color{blue}b}_n \\\\\n",
    "\\end{align}$$\n",
    "\n",
    "Source: https://en.wikipedia.org/wiki/Matrix_multiplication and https://en.wikipedia.org/wiki/Dot_product"
   ]
  },
  {
   "cell_type": "code",
   "execution_count": 1,
   "metadata": {},
   "outputs": [],
   "source": [
    "import matplotlib.pyplot as plt\n",
    "import numpy as np\n",
    "import seaborn as sns\n",
    "import scipy.stats as stats\n",
    "# from mpl_toolkits.mplot3d import Axes3D\n",
    "import math\n",
    "import pandas as pd"
   ]
  },
  {
   "cell_type": "markdown",
   "metadata": {},
   "source": [
    "# Logistic Regression\n",
    "Binary Logistic Regression: A classification model that can separate the data into two classes 0/1.\n"
   ]
  },
  {
   "cell_type": "markdown",
   "metadata": {},
   "source": [
    "# The Perceptron\n",
    "<img src=\"pics/perc.png\">\n",
    "\n",
    "The neural unit froms a linear combination of the input $x$: $z=w\\cdot x+b$, which is passed into a non-linear activation function, e.g. the sigmoid: $\\sigma(z)=\\frac{1}{1+\\exp^{-z}}$\n",
    "\n",
    "Therefore, the logistic regression model looks like:\n",
    "$$f_{\\mathbf{w},b}(x) = \\frac{1}{1+\\exp^{-(\\mathbf{w}\\cdot x+b)}}$$\n",
    "\n",
    "By looking at the graph of the sigmoid function you can see how well it fits the purpose in classification. It squashes $z$ onto the the domain (0,1). If we weights $\\mathbf{w}$ and $b$ are optimised appropriately, we can interpret the output of $f(\\mathbf{x})$ as the probability of $y_i$ being positive. For example, if it's higher than or equal to the threshold 0.5 we could say that the class of $x$ is positive; otherwise it is negative."
   ]
  },
  {
   "cell_type": "code",
   "execution_count": 2,
   "metadata": {},
   "outputs": [],
   "source": [
    "def sigmoid(z):\n",
    "    return 1.0/(1.0+np.exp(-z))"
   ]
  },
  {
   "cell_type": "code",
   "execution_count": 3,
   "metadata": {},
   "outputs": [
    {
     "data": {
      "text/plain": [
       "[<matplotlib.lines.Line2D at 0x118d1ee80>]"
      ]
     },
     "execution_count": 3,
     "metadata": {},
     "output_type": "execute_result"
    },
    {
     "data": {
      "image/png": "[encoded data removed]",
      "text/plain": [
       "<Figure size 432x288 with 1 Axes>"
      ]
     },
     "metadata": {
      "needs_background": "light"
     },
     "output_type": "display_data"
    }
   ],
   "source": [
    "x = np.arange(-10., 10., 0.2)\n",
    "y = list(map(sigmoid, x))\n",
    "plt.title('The Logistic Function')\n",
    "plt.xlabel('x')\n",
    "plt.ylabel('y')\n",
    "plt.plot(x,y, linewidth=3)"
   ]
  },
  {
   "cell_type": "markdown",
   "metadata": {},
   "source": [
    "## The Data\n",
    "We construct a synthetic data set for which a closed form solution of the logistic regression model exists\n",
    "* binary\n",
    "* the data follows a multivariate Gaussian distribution\n",
    "* same variance and off-diagonal elements of the covariance matrix are zero\n",
    "\n",
    "Recap: Normal distribution of one random variable $x$ with standard deviation $\\sigma$ (variance $\\sigma^2$) and mean $\\mu$: \n",
    "$$f(x)=\\frac{1}{\\sigma\\sqrt{2\\pi}}\\exp^{-\\frac{1}{2}\\left(\\frac{x-\\mu}{\\sigma}\\right)^2}$$"
   ]
  },
  {
   "cell_type": "code",
   "execution_count": 4,
   "metadata": {},
   "outputs": [
    {
     "data": {
      "text/plain": [
       "<matplotlib.axes._subplots.AxesSubplot at 0x118d93390>"
      ]
     },
     "execution_count": 4,
     "metadata": {},
     "output_type": "execute_result"
    },
    {
     "data": {
      "image/png": "[encoded data removed]",
      "text/plain": [
       "<Figure size 432x288 with 1 Axes>"
      ]
     },
     "metadata": {
      "needs_background": "light"
     },
     "output_type": "display_data"
    }
   ],
   "source": [
    "mu = 0\n",
    "variance = 1\n",
    "sigma = math.sqrt(variance)\n",
    "x = np.linspace(mu - 3*sigma, mu + 3*sigma, 100)\n",
    "sns.lineplot(x, stats.norm.pdf(x, mu, sigma))"
   ]
  },
  {
   "cell_type": "markdown",
   "metadata": {},
   "source": [
    "The multivariate Gaussian distribution is a generalization of the one-dimensional (univariate) normal distribution. pdf:\n",
    "$$p(\\mathbf{X})=\\frac{1}{\\sqrt{\\left(2\\pi\\right)^k|\\mathbf{\\Sigma}|}}\\exp^{-\\frac{1}{2}\\left(\\mathbf{X}-\\mathbf{\\mu}\\right)^T\\mathbf{\\Sigma}^{-1}\\left(\\mathbf{X}-\\mathbf{\\mu}\\right)}$$\n",
    "\n",
    "with a $k$-dimensional random vector $\\mathbf{X} = (X_1,\\ldots,X_k)^{\\mathrm T}$\n",
    "\n",
    "the $k$-dimensional mean vector:\n",
    "$$ \\boldsymbol\\mu = \\operatorname{E}[\\mathbf{X}] = ( \\operatorname{E}[X_1], \\operatorname{E}[X_2], \\ldots, \\operatorname{E}[X_k] )$$\n",
    "and the $k \\times k$ covariance matrix\n",
    "$$\\Sigma_{i,j} = \\operatorname{E} [(X_i - \\mu_i)( X_j - \\mu_j)] = \\operatorname{Cov}[X_i, X_j]$$\n",
    "\n",
    "such that $1 \\le i,j \\le k.$ The inverse of the covariance matrix $\\boldsymbol\\Sigma^{-1}$ is called.\n",
    "\n",
    "For your input data we now construct a multivariate normal distribution from two marginal distributions: One Gaussian centered at -2, -2, the other centered at 2,2. Both have the same covariance:\n",
    "\n",
    "$N$: total number of samples/data points  \n",
    "$D$: number of features"
   ]
  },
  {
   "cell_type": "code",
   "execution_count": 5,
   "metadata": {},
   "outputs": [],
   "source": [
    "N = 100 # number of samples\n",
    "D = 2 # number of features"
   ]
  },
  {
   "cell_type": "code",
   "execution_count": 6,
   "metadata": {},
   "outputs": [],
   "source": [
    "# X = np.random.randn(N,D)\n",
    "# X[:50, :] = X[:50,:] - 2*np.ones((50,D))\n",
    "# X[50:, :] = X[50:, :] + 2*np.ones((50,D))\n",
    "\n",
    "N_0 = int(N/2) # number of samples for class 0\n",
    "N_1 = int(N/2) # number of samples for class 1\n",
    "\n",
    "mu_0 = [-2,-2]\n",
    "variance = 1\n",
    "\n",
    "mu_1 = [2,2]\n",
    "\n",
    "m_cov = [[variance, 0],\n",
    "         [0, variance]]"
   ]
  },
  {
   "cell_type": "code",
   "execution_count": 7,
   "metadata": {},
   "outputs": [
    {
     "data": {
      "text/plain": [
       "(100, 2)"
      ]
     },
     "execution_count": 7,
     "metadata": {},
     "output_type": "execute_result"
    }
   ],
   "source": [
    "np.random.seed(41) # make the results reproducible\n",
    "X = np.concatenate([np.random.multivariate_normal(mu_0, m_cov, N_0),\n",
    "                    np.random.multivariate_normal(mu_1, m_cov, N_1)],\n",
    "                   axis=0)\n",
    "X.shape"
   ]
  },
  {
   "cell_type": "markdown",
   "metadata": {},
   "source": [
    "The target labels:"
   ]
  },
  {
   "cell_type": "code",
   "execution_count": 8,
   "metadata": {},
   "outputs": [],
   "source": [
    "T = np.array([0]*N_0 + [1]*N_1)"
   ]
  },
  {
   "cell_type": "code",
   "execution_count": 9,
   "metadata": {},
   "outputs": [],
   "source": [
    "df = pd.DataFrame(X, columns=['x', 'y',])\n",
    "df['class'] = T"
   ]
  },
  {
   "cell_type": "code",
   "execution_count": 11,
   "metadata": {},
   "outputs": [],
   "source": [
    "from lreg_helpers import multivariateGrid"
   ]
  },
  {
   "cell_type": "code",
   "execution_count": 12,
   "metadata": {},
   "outputs": [
    {
     "data": {
      "image/png": "[encoded data removed]",
      "text/plain": [
       "<Figure size 432x432 with 3 Axes>"
      ]
     },
     "metadata": {
      "needs_background": "light"
     },
     "output_type": "display_data"
    }
   ],
   "source": [
    "multivariateGrid('x', 'y', 'class', df=df)"
   ]
  },
  {
   "cell_type": "markdown",
   "metadata": {},
   "source": [
    "## Implementation of the Feed-Forward Pass\n",
    "$\\mathbf{Y}_{N\\times 1}=\\sigma\\left(\\mathbf{X}_{N\\times D}\\cdot \\mathbf{W}_{D\\times 1}+b_{N\\times 1}\\right)$ with the sigmoid applied element-wise\n",
    "\n",
    "equivalent to incorporating $b$ in the weights and adding a columns of ones to $\\mathbf{X}$: \n",
    "$\\mathbf{Y}_{N\\times 1}=\\sigma\\left(\\left[\\overline{1}, \\mathbf{X}\\right]_{N\\times D+1}\\cdot \\left[b,w_1,...,w_D\\right]_{D+1\\times 1}\\right)$"
   ]
  },
  {
   "cell_type": "code",
   "execution_count": 13,
   "metadata": {},
   "outputs": [
    {
     "data": {
      "text/plain": [
       "(100, 1)"
      ]
     },
     "execution_count": 13,
     "metadata": {},
     "output_type": "execute_result"
    }
   ],
   "source": [
    "ones = np.array([[1]*N]).T\n",
    "ones.shape"
   ]
  },
  {
   "cell_type": "code",
   "execution_count": 14,
   "metadata": {},
   "outputs": [
    {
     "data": {
      "text/plain": [
       "(100, 3)"
      ]
     },
     "execution_count": 14,
     "metadata": {},
     "output_type": "execute_result"
    }
   ],
   "source": [
    "Xb = np.concatenate((ones, X), axis=1)\n",
    "Xb.shape"
   ]
  },
  {
   "cell_type": "markdown",
   "metadata": {},
   "source": [
    "Initialise the weights vector randomly from a normal distribution"
   ]
  },
  {
   "cell_type": "code",
   "execution_count": 15,
   "metadata": {},
   "outputs": [],
   "source": [
    "W = np.random.randn(D + 1) # the first element is the bias term b"
   ]
  },
  {
   "cell_type": "markdown",
   "metadata": {},
   "source": [
    "Calculate the dot product between each row of X with the weights vector:"
   ]
  },
  {
   "cell_type": "code",
   "execution_count": 17,
   "metadata": {},
   "outputs": [
    {
     "data": {
      "text/plain": [
       "(100,)"
      ]
     },
     "execution_count": 17,
     "metadata": {},
     "output_type": "execute_result"
    }
   ],
   "source": [
    "Z = Xb.dot(W)\n",
    "Z.shape"
   ]
  },
  {
   "cell_type": "markdown",
   "metadata": {},
   "source": [
    "Apply sigmoid to each element in $\\mathbf{Z}$"
   ]
  },
  {
   "cell_type": "code",
   "execution_count": 18,
   "metadata": {},
   "outputs": [
    {
     "data": {
      "text/plain": [
       "(100,)"
      ]
     },
     "execution_count": 18,
     "metadata": {},
     "output_type": "execute_result"
    }
   ],
   "source": [
    "Y = sigmoid(Z)\n",
    "Y.shape"
   ]
  },
  {
   "cell_type": "markdown",
   "metadata": {},
   "source": [
    "We get an $N$ dimensional output vector, each value between 0 and 1"
   ]
  },
  {
   "cell_type": "code",
   "execution_count": 19,
   "metadata": {},
   "outputs": [
    {
     "data": {
      "text/plain": [
       "array([0.07857417, 0.13416845, 0.16394872, 0.07200735, 0.05607329,\n",
       "       0.08414536, 0.0598706 , 0.03847981, 0.046371  , 0.18841081,\n",
       "       0.04184845, 0.10942109, 0.26489916, 0.12220989, 0.23382576,\n",
       "       0.16089043, 0.05494789, 0.23304133, 0.10875319, 0.07219884,\n",
       "       0.0993317 , 0.08565297, 0.15930237, 0.19434353, 0.06516812,\n",
       "       0.15051165, 0.09518452, 0.11129435, 0.08463558, 0.02894559,\n",
       "       0.35553072, 0.28862635, 0.05029387, 0.24876496, 0.12222981,\n",
       "       0.18098627, 0.11079519, 0.1553117 , 0.14579836, 0.04663735,\n",
       "       0.11208699, 0.09478097, 0.03039886, 0.05188205, 0.088893  ,\n",
       "       0.22461426, 0.0528192 , 0.0456811 , 0.18944049, 0.06106788,\n",
       "       0.13448393, 0.28535174, 0.22265529, 0.37425162, 0.3918355 ,\n",
       "       0.42537114, 0.45725173, 0.36663913, 0.31244761, 0.30350377,\n",
       "       0.21381565, 0.16477995, 0.43272193, 0.37707742, 0.67822103,\n",
       "       0.46198705, 0.2133897 , 0.53316562, 0.3606359 , 0.40693073,\n",
       "       0.66913562, 0.41950465, 0.42598303, 0.41754496, 0.40905019,\n",
       "       0.41664246, 0.48237792, 0.47934173, 0.45435302, 0.3380663 ,\n",
       "       0.25362783, 0.40818527, 0.32926222, 0.47403417, 0.16351836,\n",
       "       0.67121105, 0.26822709, 0.22711186, 0.57258088, 0.41087004,\n",
       "       0.13979136, 0.27999879, 0.51876127, 0.44008174, 0.227747  ,\n",
       "       0.24333071, 0.42014951, 0.74297571, 0.54323378, 0.35719015])"
      ]
     },
     "execution_count": 19,
     "metadata": {},
     "output_type": "execute_result"
    }
   ],
   "source": [
    "Y"
   ]
  },
  {
   "cell_type": "code",
   "execution_count": null,
   "metadata": {},
   "outputs": [],
   "source": []
  },
  {
   "cell_type": "markdown",
   "metadata": {},
   "source": [
    "## The Loss Function\n",
    "The optimization criterion in logistic regression is called maximum likelihood. We maximise the likelihood of the observations in the training set according to the model.\n",
    "\n",
    "Consider a ($D$-dimensional) training example $\\mathbf{x}_{n}$ and the corresponding target value $t_{n}$ (binary: 0 or 1). Applying the logistic regression model to $\\mathbf{x}_{n}$ \n",
    "\n",
    "$$y_n = f_{\\mathbf{w},b}(\\mathbf{x}_n)$$\n",
    "\n",
    "yields a value $0<y_n<1$. If $t_n$ is 1, the likelihood of $t_n$ being the positive class, according to our model, is given by $y_n$. Similarly, if $t_n$ is 0, the likelihood of it being the class 0 is given by $1-y_n$.\n",
    "\n",
    "the likelihood of the training data according to our model\n",
    "$$L_{\\mathbf{w}, b} \\stackrel{\\text{def}}{=} \\prod_{n=1}^N y_n^{t_n}(1-y_n)^{1-t_n}$$\n",
    "$y_n$ when $t_n=1$ and $1-y_n$ otherwise.\n",
    "\n",
    "The log-likelihood is more practical (e.g. numerical underflow and we can consider contributions from all samples $N$, even if we predict 1 for $t_n=0$ and 0 for $t_n=1$ for some):\n",
    "\n",
    "$$\\log L_{\\mathbf{w},b} \\stackrel{\\text{def}}{=} \\ln \\left(L_{\\mathbf{w},b}\\left(\\mathbf{x}_n\\right)\\right)=\\sum_{n=1}^N \\left[t_n \\ln y_n +(1-t_n) \\ln(1-y_n) \\right]$$\n",
    "\n",
    "if $t_n=1$ only first term matters, if $t_n=0$ only second term matters\n",
    "\n",
    "$\\ln y \\rightarrow$ number between $0$ and $-\\inf$\n",
    "\n",
    "* $t_n=1,\\; y_n=1 \\; \\rightarrow \\; 0$\n",
    "* $t_n=0,\\; y_n=0 \\; \\rightarrow \\; 0$\n",
    "* $t_n=1\\; y_n=0.9 \\; \\text{(very close)} \\; \\rightarrow \\; 0.11$\n",
    "* $t_n=1,\\; y_n=0.5 \\; \\text{(right on the decision boundary)} \\; \\rightarrow \\; 0.69$\n",
    "* $t_n=1,\\; y_n=0.1 \\; \\text{(very wrong)} \\; \\rightarrow \\; 2.3$\n",
    "\n",
    "Correspondingly, we can also minimise the negative of the log-likelihood, which is called the log-likelihood error or cross-entropy error.\n",
    "\n",
    "$$J \\stackrel{\\text{def}}{=} - \\sum_{n=1}^N \\left[t_n \\ln y_n +(1-t_n) \\ln(1-y_n) \\right]$$"
   ]
  },
  {
   "cell_type": "code",
   "execution_count": 24,
   "metadata": {},
   "outputs": [],
   "source": [
    "def cross_entropy(T, Y):\n",
    "    E = 0\n",
    "    for n in range(N): # sum over all the samples\n",
    "        if T[n] == 1:\n",
    "            E -= np.log(Y[n])\n",
    "        else:\n",
    "            E -= np.log(1 - Y[n])\n",
    "    return E"
   ]
  },
  {
   "cell_type": "markdown",
   "metadata": {},
   "source": [
    "Calculate the cross-entropy error of the outputs that were generated above with the randomly chosen weights:"
   ]
  },
  {
   "cell_type": "code",
   "execution_count": 25,
   "metadata": {},
   "outputs": [
    {
     "data": {
      "text/plain": [
       "57.835657891702766"
      ]
     },
     "execution_count": 25,
     "metadata": {},
     "output_type": "execute_result"
    }
   ],
   "source": [
    "cross_entropy(T,Y)"
   ]
  },
  {
   "cell_type": "code",
   "execution_count": null,
   "metadata": {},
   "outputs": [],
   "source": []
  },
  {
   "cell_type": "markdown",
   "metadata": {},
   "source": [
    "# The Closed Form Solution\n",
    "Logistic gregression is about finding the hyperplance that separates the (in this case 2) groups. If the data is Gaussian distributed with equal covariance we can use Bayes' method to find an analytical solution for the optimal weights.\n",
    "\n",
    "Bayes' Theorem:\n",
    "$$$$"
   ]
  },
  {
   "cell_type": "code",
   "execution_count": null,
   "metadata": {},
   "outputs": [],
   "source": []
  },
  {
   "cell_type": "code",
   "execution_count": 22,
   "metadata": {},
   "outputs": [],
   "source": [
    "w_cf = np.array([0, 4, 4])"
   ]
  },
  {
   "cell_type": "markdown",
   "metadata": {},
   "source": [
    "plot the closed-form solution!"
   ]
  },
  {
   "cell_type": "markdown",
   "metadata": {},
   "source": [
    "Calculate the cross entropy error of the outputs generated with the weights according to the closed-form solution:"
   ]
  },
  {
   "cell_type": "code",
   "execution_count": 23,
   "metadata": {},
   "outputs": [
    {
     "data": {
      "text/plain": [
       "0.3439512090041786"
      ]
     },
     "execution_count": 23,
     "metadata": {},
     "output_type": "execute_result"
    }
   ],
   "source": [
    "Y_cf = sigmoid(Xb.dot(w_cf))\n",
    "cross_entropy(T, Y_cf)"
   ]
  },
  {
   "cell_type": "markdown",
   "metadata": {},
   "source": [
    "And compare with the result above from the randomly chosen weights!"
   ]
  },
  {
   "cell_type": "markdown",
   "metadata": {},
   "source": [
    "# Gradient Descent\n",
    "Optimise the weights numerically and see how close we get to the closed-form solution.\n",
    "\n",
    "$$J \\stackrel{\\text{def}}{=} - \\sum_{n=1}^N \\left[t_n \\ln y_n +(1-t_n) \\ln(1-y_n) \\right]$$\n",
    "\n",
    "Use the chain rule to calculate the partial derivative of the cross entropy loss with respect to the individual weights $w_i$:\n",
    "\n",
    "$$\\frac{\\partial J}{\\partial w_i} = \\sum_{n=1}^N \\frac{\\partial J}{\\partial y_n} \\frac{\\partial y_n}{\\partial z_n} \\frac{\\partial z_n}{\\partial w_i}$$\n",
    "\n",
    "$$\\frac{\\partial J}{\\partial y_n} = - t_n \\frac{1}{y_n} - (1-t_n) \\frac{1}{1-y_n} (-1)$$\n",
    "\n",
    "remainder: $y_n = \\frac{1}{1+\\exp^{-\\mathbf{z_n}}}$\n",
    "\n",
    "$$\\begin{aligned}\n",
    "\\frac{\\partial y_n}{\\partial z_n} &= \\frac{-1}{(1+\\exp^{-\\mathbf{z_n}})^2}(\\exp^{-z})(-1)\\\\\n",
    "&= y_n \\frac{\\exp^{-z}}{1+\\exp^{-z}}\\\\\n",
    "&= y_n \\frac{1+\\exp^{-z}-1}{1+\\exp^{-z}}\\\\\n",
    "&= y_n \\left( \\frac{1+\\exp^{-z}}{1+\\exp^{-z}} - \\frac{1}{1+\\exp^{-z}} \\right)\\\\\n",
    "&= y_n (1-y_n)\\\\\n",
    "\\end{aligned}$$\n",
    "\n",
    "remainder: $z_n = w_0 x_{n,0} + w_1 x_{n,1} + w_2 x_{n,2} + ...$\n",
    "\n",
    "$$\\frac{\\partial z_n}{\\partial w_i}= x_{n,i}$$\n",
    "\n",
    "Putting it all together:\n",
    "\n",
    "$$\\begin{aligned}\n",
    "\\frac{\\partial J}{\\partial w_i} &= -\\sum_{n=1}^N t_n \\frac{1}{y_n} y_n (1-y_n) x_{n,i} - (1-t_n) \\frac{1}{1-y_n} y_n (1-y_n) x_{n,i}\\\\\n",
    "&= -\\sum_{n=1}^N t_n (1-y_n) x_{n,i} - (1-t_n) y_n x_{n,i}\\\\\n",
    "&= \\sum_{n=1}^N (y_n - t_n) x_{n,i}\\\\\n",
    "\\end{aligned}$$\n",
    "\n",
    "This can be expressed in vector form:\n",
    "\n",
    "$$\\begin{aligned}\n",
    "\\frac{\\partial J}{\\partial \\mathbf{W}} &= \\sum_{n=1}^N (y_n - t_n) \\mathbf{X}_{n}\\\\\n",
    "&= \\mathbf{X}^T \\left(\\mathbf{Y}-\\mathbf{T}\\right) \\; \\rightarrow \\text{shape} D\\times 1\n",
    "\\end{aligned}$$\n",
    "\n",
    "Now we can iteratively\n",
    "1. calculate the gradient with respect to the weights\n",
    "2. change the weights by a small factor (the learning rate) along their **negative** gradient (minimise $J$)\n",
    "3. recalculate $J$ with the updated weights\n",
    "4. repeat for a fixed number of steps or the weights are considered *converged*"
   ]
  },
  {
   "cell_type": "code",
   "execution_count": 26,
   "metadata": {},
   "outputs": [],
   "source": [
    "learning_rate = 0.1\n",
    "N_steps = 100"
   ]
  },
  {
   "cell_type": "code",
   "execution_count": 29,
   "metadata": {},
   "outputs": [
    {
     "name": "stdout",
     "output_type": "stream",
     "text": [
      "0.05212387519009031\n",
      "0.04987660820147317\n",
      "0.047812029293291085\n",
      "0.04590902693812754\n",
      "0.044149590274301195\n",
      "0.04251826438860999\n",
      "0.04100171580498902\n",
      "0.039588383156242656\n",
      "0.03826819427433941\n",
      "0.037032335493072915\n",
      "0.03587306231124986\n",
      "0.03478354305690493\n",
      "0.03375772906189957\n",
      "0.032790246269473924\n",
      "0.03187630427489037\n",
      "0.031011619627008213\n",
      "0.030192350859237035\n",
      "0.029415043217382114\n",
      "0.02867658144330628\n",
      "0.027974149282169646\n",
      "Final weights: [-0.44659224  8.71356798  6.66551284]\n"
     ]
    }
   ],
   "source": [
    "for i in range(N_steps):\n",
    "    if i % 5 == 0:\n",
    "        print(cross_entropy(T, Y))\n",
    "    W += learning_rate * np.dot((T - Y).T, Xb) # follow the negative gradient!\n",
    "    Y = sigmoid(Xb.dot(W)) # Calculate the new output based on the updated weights\n",
    "\n",
    "print(' '.join(['Final weights:', str(W)]))"
   ]
  },
  {
   "cell_type": "markdown",
   "metadata": {},
   "source": [
    "low error, but weights far away from closed-form solution! This is due to the choice of the objective function. Regularisation will improve on this... More data"
   ]
  }
 ],
 "metadata": {
  "kernelspec": {
   "display_name": "Python 3",
   "language": "python",
   "name": "python3"
  },
  "language_info": {
   "codemirror_mode": {
    "name": "ipython",
    "version": 3
   },
   "file_extension": ".py",
   "mimetype": "text/x-python",
   "name": "python",
   "nbconvert_exporter": "python",
   "pygments_lexer": "ipython3",
   "version": "3.7.0"
  }
 },
 "nbformat": 4,
 "nbformat_minor": 4
}
