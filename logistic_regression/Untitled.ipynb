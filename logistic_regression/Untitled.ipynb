{
 "cells": [
  {
   "cell_type": "code",
   "execution_count": 17,
   "metadata": {},
   "outputs": [],
   "source": [
    "import matplotlib.pyplot as plt\n",
    "import numpy as np\n",
    "import seaborn as sns\n",
    "import scipy.stats as stats\n",
    "from mpl_toolkits.mplot3d import Axes3D\n",
    "import math\n",
    "import pandas as pd"
   ]
  },
  {
   "cell_type": "markdown",
   "metadata": {},
   "source": [
    "# Logistic Regression\n",
    "## Feed-Forward Pass\n",
    "$N$: number of samples  \n",
    "$D$: number of features  \n",
    "$y_{N\\times 1}=\\sigma\\left(x_{N\\times D}\\cdot w_{D\\times 1}+b\\right)$ with the sigmoid applied element-wise $\\sigma(z) = \\frac{1}{1+\\exp^{-z}}$\n",
    "\n",
    "equivalent to  \n",
    "$y_{N\\times 1}=\\sigma\\left(\\left[\\overline{1}, x\\right]_{N\\times D+1}\\cdot \\left[b,w_1,...,w_D\\right]_{D+1\\times 1}\\right)$"
   ]
  },
  {
   "cell_type": "code",
   "execution_count": 4,
   "metadata": {},
   "outputs": [],
   "source": [
    "N = 100 # number of samples\n",
    "D = 2 # number of features"
   ]
  },
  {
   "cell_type": "code",
   "execution_count": 8,
   "metadata": {
    "collapsed": true,
    "jupyter": {
     "outputs_hidden": true
    }
   },
   "outputs": [
    {
     "data": {
      "text/plain": [
       "array([[-1.79653553,  0.29458543],\n",
       "       [ 0.68935223, -0.54913971],\n",
       "       [ 0.2879558 , -0.8912533 ],\n",
       "       [ 0.45452551,  0.10263863],\n",
       "       [ 0.2843412 ,  0.18281402],\n",
       "       [-2.48527579,  0.82597771],\n",
       "       [-0.05050843,  1.83182934],\n",
       "       [-0.09262069, -0.11049331],\n",
       "       [-0.07378221,  0.46401698],\n",
       "       [-1.62264403,  1.86536008],\n",
       "       [ 1.09990702, -0.01272595],\n",
       "       [-0.21334384, -1.42335504],\n",
       "       [-0.10939869,  0.76419982],\n",
       "       [-1.10190041,  2.43101378],\n",
       "       [-0.42591817, -0.4485846 ],\n",
       "       [-0.55581641,  0.49026418],\n",
       "       [ 0.47301209, -2.17142904],\n",
       "       [-0.07539542, -1.5914415 ],\n",
       "       [-1.70977055,  0.23434504],\n",
       "       [ 1.39288301, -0.44111806],\n",
       "       [-1.46228287,  0.09709204],\n",
       "       [ 0.12050839,  0.33887706],\n",
       "       [-0.23582299, -0.73511164],\n",
       "       [-0.81678123,  1.4305503 ],\n",
       "       [-1.81360983, -0.03222434],\n",
       "       [ 1.03360674,  1.88089409],\n",
       "       [ 0.27960062,  0.39186663],\n",
       "       [-0.34567378, -0.08595907],\n",
       "       [-0.26762223,  2.39197463],\n",
       "       [ 0.01826047, -0.49126855],\n",
       "       [-1.00864144, -0.43799655],\n",
       "       [ 0.80668356,  0.56484597],\n",
       "       [ 0.97692845,  0.1761005 ],\n",
       "       [ 0.52819271,  1.18164844],\n",
       "       [-0.66710599, -0.82227194],\n",
       "       [ 0.55106724,  1.64713537],\n",
       "       [ 0.39954544,  2.23633538],\n",
       "       [-0.21349245, -0.12657871],\n",
       "       [-0.53967219,  0.02015837],\n",
       "       [ 1.41332766, -0.36981742],\n",
       "       [ 0.71925397,  1.62523161],\n",
       "       [-0.32602159, -0.08448917],\n",
       "       [-0.35463073,  0.10893438],\n",
       "       [ 1.12607122, -1.80575083],\n",
       "       [-1.14543861,  0.46457975],\n",
       "       [-2.15612867,  1.01790488],\n",
       "       [-0.99715027,  1.66528196],\n",
       "       [-0.30052379, -0.09865145],\n",
       "       [-0.51194859, -0.42670745],\n",
       "       [ 0.24244396,  1.37893451],\n",
       "       [-0.45079466,  1.34348861],\n",
       "       [-0.16909079,  0.56115842],\n",
       "       [ 1.55055888, -0.05079742],\n",
       "       [ 0.84005632,  0.30198855],\n",
       "       [ 1.73166676,  1.44820292],\n",
       "       [-1.57070293, -0.17509963],\n",
       "       [-0.80950101,  0.92671586],\n",
       "       [-1.38464506, -1.06156761],\n",
       "       [ 0.97062932,  0.0329057 ],\n",
       "       [ 1.66983924, -0.31755189],\n",
       "       [-1.65980645, -0.21417045],\n",
       "       [ 0.07506769,  0.80134829],\n",
       "       [-2.07453227, -0.86557803],\n",
       "       [ 1.13895719,  0.87482493],\n",
       "       [-1.41400443, -1.38713492],\n",
       "       [ 1.29345026, -0.31097978],\n",
       "       [-1.39869283,  0.63318148],\n",
       "       [-0.45153436,  0.60774794],\n",
       "       [-0.24711722,  1.35502163],\n",
       "       [-0.31720902,  1.1823206 ],\n",
       "       [ 1.05727116,  0.46613396],\n",
       "       [ 0.39306519, -0.0449324 ],\n",
       "       [ 0.25384733, -1.55380589],\n",
       "       [-0.13676436,  1.37774842],\n",
       "       [ 2.34901965, -0.49624092],\n",
       "       [ 1.07257908,  0.85453103],\n",
       "       [-0.99160402, -0.18687273],\n",
       "       [-0.83895187,  1.02683276],\n",
       "       [ 1.02884374, -1.08904532],\n",
       "       [ 1.29200191, -0.10191467],\n",
       "       [-1.37255335, -0.65993412],\n",
       "       [ 0.60067702,  0.78742344],\n",
       "       [ 1.03385155,  2.47736272],\n",
       "       [-0.28949477, -0.96396249],\n",
       "       [-0.87986314, -0.10755765],\n",
       "       [ 0.98253071, -1.3237551 ],\n",
       "       [-0.26721237,  1.02057123],\n",
       "       [-1.34327341,  1.68100092],\n",
       "       [-0.92532788,  1.30628119],\n",
       "       [ 0.01526715, -0.6723874 ],\n",
       "       [-0.50857385, -0.56532143],\n",
       "       [ 1.325539  , -0.76152444],\n",
       "       [ 1.31302694, -1.31629219],\n",
       "       [ 1.37718782,  0.31979911],\n",
       "       [-0.03529562,  1.04208463],\n",
       "       [-0.84056928, -0.10231679],\n",
       "       [-0.71616694,  0.22627188],\n",
       "       [-1.98219865, -0.60491674],\n",
       "       [ 0.33866115, -0.04708482],\n",
       "       [-2.71491238,  0.5353318 ]])"
      ]
     },
     "execution_count": 8,
     "metadata": {},
     "output_type": "execute_result"
    }
   ],
   "source": [
    "X = np.random.randn(N,D)\n",
    "X"
   ]
  },
  {
   "cell_type": "code",
   "execution_count": 9,
   "metadata": {
    "collapsed": true,
    "jupyter": {
     "outputs_hidden": true
    }
   },
   "outputs": [
    {
     "data": {
      "text/plain": [
       "array([[1],\n",
       "       [1],\n",
       "       [1],\n",
       "       [1],\n",
       "       [1],\n",
       "       [1],\n",
       "       [1],\n",
       "       [1],\n",
       "       [1],\n",
       "       [1],\n",
       "       [1],\n",
       "       [1],\n",
       "       [1],\n",
       "       [1],\n",
       "       [1],\n",
       "       [1],\n",
       "       [1],\n",
       "       [1],\n",
       "       [1],\n",
       "       [1],\n",
       "       [1],\n",
       "       [1],\n",
       "       [1],\n",
       "       [1],\n",
       "       [1],\n",
       "       [1],\n",
       "       [1],\n",
       "       [1],\n",
       "       [1],\n",
       "       [1],\n",
       "       [1],\n",
       "       [1],\n",
       "       [1],\n",
       "       [1],\n",
       "       [1],\n",
       "       [1],\n",
       "       [1],\n",
       "       [1],\n",
       "       [1],\n",
       "       [1],\n",
       "       [1],\n",
       "       [1],\n",
       "       [1],\n",
       "       [1],\n",
       "       [1],\n",
       "       [1],\n",
       "       [1],\n",
       "       [1],\n",
       "       [1],\n",
       "       [1],\n",
       "       [1],\n",
       "       [1],\n",
       "       [1],\n",
       "       [1],\n",
       "       [1],\n",
       "       [1],\n",
       "       [1],\n",
       "       [1],\n",
       "       [1],\n",
       "       [1],\n",
       "       [1],\n",
       "       [1],\n",
       "       [1],\n",
       "       [1],\n",
       "       [1],\n",
       "       [1],\n",
       "       [1],\n",
       "       [1],\n",
       "       [1],\n",
       "       [1],\n",
       "       [1],\n",
       "       [1],\n",
       "       [1],\n",
       "       [1],\n",
       "       [1],\n",
       "       [1],\n",
       "       [1],\n",
       "       [1],\n",
       "       [1],\n",
       "       [1],\n",
       "       [1],\n",
       "       [1],\n",
       "       [1],\n",
       "       [1],\n",
       "       [1],\n",
       "       [1],\n",
       "       [1],\n",
       "       [1],\n",
       "       [1],\n",
       "       [1],\n",
       "       [1],\n",
       "       [1],\n",
       "       [1],\n",
       "       [1],\n",
       "       [1],\n",
       "       [1],\n",
       "       [1],\n",
       "       [1],\n",
       "       [1],\n",
       "       [1]])"
      ]
     },
     "execution_count": 9,
     "metadata": {},
     "output_type": "execute_result"
    }
   ],
   "source": [
    "ones = np.array([[1]*N]).T\n",
    "ones"
   ]
  },
  {
   "cell_type": "code",
   "execution_count": 12,
   "metadata": {
    "collapsed": true,
    "jupyter": {
     "outputs_hidden": true
    }
   },
   "outputs": [
    {
     "data": {
      "text/plain": [
       "array([[ 1.        , -1.79653553,  0.29458543],\n",
       "       [ 1.        ,  0.68935223, -0.54913971],\n",
       "       [ 1.        ,  0.2879558 , -0.8912533 ],\n",
       "       [ 1.        ,  0.45452551,  0.10263863],\n",
       "       [ 1.        ,  0.2843412 ,  0.18281402],\n",
       "       [ 1.        , -2.48527579,  0.82597771],\n",
       "       [ 1.        , -0.05050843,  1.83182934],\n",
       "       [ 1.        , -0.09262069, -0.11049331],\n",
       "       [ 1.        , -0.07378221,  0.46401698],\n",
       "       [ 1.        , -1.62264403,  1.86536008],\n",
       "       [ 1.        ,  1.09990702, -0.01272595],\n",
       "       [ 1.        , -0.21334384, -1.42335504],\n",
       "       [ 1.        , -0.10939869,  0.76419982],\n",
       "       [ 1.        , -1.10190041,  2.43101378],\n",
       "       [ 1.        , -0.42591817, -0.4485846 ],\n",
       "       [ 1.        , -0.55581641,  0.49026418],\n",
       "       [ 1.        ,  0.47301209, -2.17142904],\n",
       "       [ 1.        , -0.07539542, -1.5914415 ],\n",
       "       [ 1.        , -1.70977055,  0.23434504],\n",
       "       [ 1.        ,  1.39288301, -0.44111806],\n",
       "       [ 1.        , -1.46228287,  0.09709204],\n",
       "       [ 1.        ,  0.12050839,  0.33887706],\n",
       "       [ 1.        , -0.23582299, -0.73511164],\n",
       "       [ 1.        , -0.81678123,  1.4305503 ],\n",
       "       [ 1.        , -1.81360983, -0.03222434],\n",
       "       [ 1.        ,  1.03360674,  1.88089409],\n",
       "       [ 1.        ,  0.27960062,  0.39186663],\n",
       "       [ 1.        , -0.34567378, -0.08595907],\n",
       "       [ 1.        , -0.26762223,  2.39197463],\n",
       "       [ 1.        ,  0.01826047, -0.49126855],\n",
       "       [ 1.        , -1.00864144, -0.43799655],\n",
       "       [ 1.        ,  0.80668356,  0.56484597],\n",
       "       [ 1.        ,  0.97692845,  0.1761005 ],\n",
       "       [ 1.        ,  0.52819271,  1.18164844],\n",
       "       [ 1.        , -0.66710599, -0.82227194],\n",
       "       [ 1.        ,  0.55106724,  1.64713537],\n",
       "       [ 1.        ,  0.39954544,  2.23633538],\n",
       "       [ 1.        , -0.21349245, -0.12657871],\n",
       "       [ 1.        , -0.53967219,  0.02015837],\n",
       "       [ 1.        ,  1.41332766, -0.36981742],\n",
       "       [ 1.        ,  0.71925397,  1.62523161],\n",
       "       [ 1.        , -0.32602159, -0.08448917],\n",
       "       [ 1.        , -0.35463073,  0.10893438],\n",
       "       [ 1.        ,  1.12607122, -1.80575083],\n",
       "       [ 1.        , -1.14543861,  0.46457975],\n",
       "       [ 1.        , -2.15612867,  1.01790488],\n",
       "       [ 1.        , -0.99715027,  1.66528196],\n",
       "       [ 1.        , -0.30052379, -0.09865145],\n",
       "       [ 1.        , -0.51194859, -0.42670745],\n",
       "       [ 1.        ,  0.24244396,  1.37893451],\n",
       "       [ 1.        , -0.45079466,  1.34348861],\n",
       "       [ 1.        , -0.16909079,  0.56115842],\n",
       "       [ 1.        ,  1.55055888, -0.05079742],\n",
       "       [ 1.        ,  0.84005632,  0.30198855],\n",
       "       [ 1.        ,  1.73166676,  1.44820292],\n",
       "       [ 1.        , -1.57070293, -0.17509963],\n",
       "       [ 1.        , -0.80950101,  0.92671586],\n",
       "       [ 1.        , -1.38464506, -1.06156761],\n",
       "       [ 1.        ,  0.97062932,  0.0329057 ],\n",
       "       [ 1.        ,  1.66983924, -0.31755189],\n",
       "       [ 1.        , -1.65980645, -0.21417045],\n",
       "       [ 1.        ,  0.07506769,  0.80134829],\n",
       "       [ 1.        , -2.07453227, -0.86557803],\n",
       "       [ 1.        ,  1.13895719,  0.87482493],\n",
       "       [ 1.        , -1.41400443, -1.38713492],\n",
       "       [ 1.        ,  1.29345026, -0.31097978],\n",
       "       [ 1.        , -1.39869283,  0.63318148],\n",
       "       [ 1.        , -0.45153436,  0.60774794],\n",
       "       [ 1.        , -0.24711722,  1.35502163],\n",
       "       [ 1.        , -0.31720902,  1.1823206 ],\n",
       "       [ 1.        ,  1.05727116,  0.46613396],\n",
       "       [ 1.        ,  0.39306519, -0.0449324 ],\n",
       "       [ 1.        ,  0.25384733, -1.55380589],\n",
       "       [ 1.        , -0.13676436,  1.37774842],\n",
       "       [ 1.        ,  2.34901965, -0.49624092],\n",
       "       [ 1.        ,  1.07257908,  0.85453103],\n",
       "       [ 1.        , -0.99160402, -0.18687273],\n",
       "       [ 1.        , -0.83895187,  1.02683276],\n",
       "       [ 1.        ,  1.02884374, -1.08904532],\n",
       "       [ 1.        ,  1.29200191, -0.10191467],\n",
       "       [ 1.        , -1.37255335, -0.65993412],\n",
       "       [ 1.        ,  0.60067702,  0.78742344],\n",
       "       [ 1.        ,  1.03385155,  2.47736272],\n",
       "       [ 1.        , -0.28949477, -0.96396249],\n",
       "       [ 1.        , -0.87986314, -0.10755765],\n",
       "       [ 1.        ,  0.98253071, -1.3237551 ],\n",
       "       [ 1.        , -0.26721237,  1.02057123],\n",
       "       [ 1.        , -1.34327341,  1.68100092],\n",
       "       [ 1.        , -0.92532788,  1.30628119],\n",
       "       [ 1.        ,  0.01526715, -0.6723874 ],\n",
       "       [ 1.        , -0.50857385, -0.56532143],\n",
       "       [ 1.        ,  1.325539  , -0.76152444],\n",
       "       [ 1.        ,  1.31302694, -1.31629219],\n",
       "       [ 1.        ,  1.37718782,  0.31979911],\n",
       "       [ 1.        , -0.03529562,  1.04208463],\n",
       "       [ 1.        , -0.84056928, -0.10231679],\n",
       "       [ 1.        , -0.71616694,  0.22627188],\n",
       "       [ 1.        , -1.98219865, -0.60491674],\n",
       "       [ 1.        ,  0.33866115, -0.04708482],\n",
       "       [ 1.        , -2.71491238,  0.5353318 ]])"
      ]
     },
     "execution_count": 12,
     "metadata": {},
     "output_type": "execute_result"
    }
   ],
   "source": [
    "Xb = np.concatenate((ones, X), axis=1)\n",
    "Xb"
   ]
  },
  {
   "cell_type": "code",
   "execution_count": 16,
   "metadata": {},
   "outputs": [],
   "source": [
    "w = np.random.randn(D + 1) # the first element is the bias term b"
   ]
  },
  {
   "cell_type": "code",
   "execution_count": 17,
   "metadata": {},
   "outputs": [
    {
     "data": {
      "text/plain": [
       "array([-0.91189644, -1.1037213 ,  0.61988983])"
      ]
     },
     "execution_count": 17,
     "metadata": {},
     "output_type": "execute_result"
    }
   ],
   "source": [
    "w"
   ]
  },
  {
   "cell_type": "code",
   "execution_count": 14,
   "metadata": {},
   "outputs": [
    {
     "data": {
      "text/plain": [
       "(100,)"
      ]
     },
     "execution_count": 14,
     "metadata": {},
     "output_type": "execute_result"
    }
   ],
   "source": [
    "z = Xb.dot(w)\n",
    "z.shape"
   ]
  },
  {
   "cell_type": "code",
   "execution_count": null,
   "metadata": {},
   "outputs": [],
   "source": [
    "def sigmoid(z):\n",
    "    return 1.0/(1.0+np.exp(-z))"
   ]
  },
  {
   "cell_type": "code",
   "execution_count": 15,
   "metadata": {},
   "outputs": [
    {
     "data": {
      "text/plain": [
       "array([0.43261643, 0.25010156, 0.26265322, 0.2810963 , 0.29333312,\n",
       "       0.50000446, 0.36570989, 0.30715505, 0.323542  , 0.47540366,\n",
       "       0.24249715, 0.2759143 , 0.33515996, 0.45843199, 0.3172541 ,\n",
       "       0.35511443, 0.21994346, 0.26349908, 0.424482  , 0.21703546,\n",
       "       0.40269294, 0.30777478, 0.29711831, 0.40387651, 0.42249072,\n",
       "       0.29895406, 0.29978386, 0.32345053, 0.39900088, 0.28928087,\n",
       "       0.35455684, 0.27410906, 0.25401297, 0.30845475, 0.32068239,\n",
       "       0.32125437, 0.34943234, 0.31403399, 0.33900489, 0.21776156,\n",
       "       0.31024359, 0.32227316, 0.33007647, 0.19779438, 0.39354161,\n",
       "       0.48337812, 0.42438553, 0.32025386, 0.32325806, 0.33223031,\n",
       "       0.37617363, 0.33255036, 0.21879767, 0.26491878, 0.24746561,\n",
       "       0.4008548 , 0.38634873, 0.3588715 , 0.25053006, 0.20679187,\n",
       "       0.40562739, 0.32471527, 0.41188329, 0.26413369, 0.35024416,\n",
       "       0.22507787, 0.41665574, 0.35212916, 0.36304783, 0.36201203,\n",
       "       0.25747004, 0.28041304, 0.2467085 , 0.3565538 , 0.17322258,\n",
       "       0.26725948, 0.36160794, 0.39170737, 0.21907337, 0.23035138,\n",
       "       0.37124268, 0.29240059, 0.31691777, 0.29355986, 0.35687006,\n",
       "       0.21566726, 0.3534853 , 0.44916146, 0.40708615, 0.28421487,\n",
       "       0.31877464, 0.21262308, 0.20035038, 0.23668958, 0.33923207,\n",
       "       0.354477  , 0.35701577, 0.41445215, 0.28348624, 0.50606467])"
      ]
     },
     "execution_count": 15,
     "metadata": {},
     "output_type": "execute_result"
    }
   ],
   "source": [
    "sigmoid(z)"
   ]
  },
  {
   "cell_type": "markdown",
   "metadata": {},
   "source": [
    "## The Data"
   ]
  },
  {
   "cell_type": "markdown",
   "metadata": {},
   "source": [
    "pdf of the multivariate Gaussian:\n",
    "$$p(x)=\\frac{1}{\\sqrt{\\left(2\\pi\\right)^D|\\Sigma|}}\\exp^{-\\frac{1}{2}\\left(x-\\mu\\right)^T\\Sigma^{-1}\\left(x-\\mu\\right)}$$\n",
    "\n",
    "Bayes' Theorem:\n",
    "$$"
   ]
  },
  {
   "cell_type": "markdown",
   "metadata": {},
   "source": [
    "Normal distribution of one random variable $x$ with standard deviation $\\sigma$ (variance $\\sigma^2$) and mean $\\mu$: \n",
    "$$f(x)=\\frac{1}{\\sigma\\sqrt{2\\pi}}\\exp^{-\\frac{1}{2}\\left(\\frac{x-\\mu}{\\sigma}\\right)^2}$$"
   ]
  },
  {
   "cell_type": "code",
   "execution_count": 41,
   "metadata": {},
   "outputs": [
    {
     "data": {
      "text/plain": [
       "<matplotlib.axes._subplots.AxesSubplot at 0x258c4876f88>"
      ]
     },
     "execution_count": 41,
     "metadata": {},
     "output_type": "execute_result"
    },
    {
     "data": {
      "image/png": "[encoded data removed]",
      "text/plain": [
       "<Figure size 432x288 with 1 Axes>"
      ]
     },
     "metadata": {
      "needs_background": "light"
     },
     "output_type": "display_data"
    }
   ],
   "source": [
    "mu = 0\n",
    "variance = 1\n",
    "sigma = math.sqrt(variance)\n",
    "x = np.linspace(mu - 3*sigma, mu + 3*sigma, 100)\n",
    "sns.lineplot(x, stats.norm.pdf(x, mu, sigma))"
   ]
  },
  {
   "cell_type": "code",
   "execution_count": 47,
   "metadata": {},
   "outputs": [],
   "source": [
    "mu_0 = [-2,-2]\n",
    "variance = 1\n",
    "\n",
    "mu_1 = [2,2]\n",
    "\n",
    "m_cov = [[variance, 0],\n",
    "         [0, variance]]\n",
    "\n",
    "df_0= pd.DataFrame(np.random.multivariate_normal(mu_0, m_cov, N), columns=[\"x\", \"y\"])\n",
    "df_0[\"class\"] = [0]*len(df_0)\n",
    "df_1= pd.DataFrame(np.random.multivariate_normal(mu_1, m_cov, N), columns=[\"x\", \"y\"])\n",
    "df_1[\"class\"] = [1]*len(df_1)\n",
    "df = pd.concat([df_0, df_1])"
   ]
  },
  {
   "cell_type": "code",
   "execution_count": 48,
   "metadata": {},
   "outputs": [],
   "source": [
    "def multivariateGrid(col_x, col_y, col_k, df, k_is_color=False, scatter_alpha=.5):\n",
    "    def colored_scatter(x, y, c=None):\n",
    "        def scatter(*args, **kwargs):\n",
    "            args = (x, y)\n",
    "            if c is not None:\n",
    "                kwargs['c'] = c\n",
    "            kwargs['alpha'] = scatter_alpha\n",
    "            plt.scatter(*args, **kwargs)\n",
    "\n",
    "        return scatter\n",
    "\n",
    "    g = sns.JointGrid(\n",
    "        x=col_x,\n",
    "        y=col_y,\n",
    "        data=df\n",
    "    )\n",
    "    color = None\n",
    "    legends=[]\n",
    "    for name, df_group in df.groupby(col_k):\n",
    "        legends.append(name)\n",
    "        if k_is_color:\n",
    "            color=name\n",
    "        g.plot_joint(\n",
    "            colored_scatter(df_group[col_x],df_group[col_y],color),\n",
    "        )\n",
    "        sns.distplot(\n",
    "            df_group[col_x].values,\n",
    "            ax=g.ax_marg_x,\n",
    "            color=color,\n",
    "        )\n",
    "        sns.distplot(\n",
    "            df_group[col_y].values,\n",
    "            ax=g.ax_marg_y,\n",
    "            color=color,            \n",
    "            vertical=True\n",
    "        )\n",
    "    # Do also global Hist:\n",
    "    sns.distplot(\n",
    "        df[col_x].values,\n",
    "        ax=g.ax_marg_x,\n",
    "        color='grey'\n",
    "    )\n",
    "    sns.distplot(\n",
    "        df[col_y].values.ravel(),\n",
    "        ax=g.ax_marg_y,\n",
    "        color='grey',\n",
    "        vertical=True\n",
    "    )\n",
    "    plt.legend(legends)"
   ]
  },
  {
   "cell_type": "code",
   "execution_count": 49,
   "metadata": {},
   "outputs": [
    {
     "data": {
      "image/png": "[encoded data removed]",
      "text/plain": [
       "<Figure size 432x432 with 3 Axes>"
      ]
     },
     "metadata": {
      "needs_background": "light"
     },
     "output_type": "display_data"
    }
   ],
   "source": [
    "multivariateGrid('x', 'y', 'class', df=df)"
   ]
  },
  {
   "cell_type": "code",
   "execution_count": null,
   "metadata": {},
   "outputs": [],
   "source": [
    "Xb = np.concatenate((ones, X), axis=1)"
   ]
  },
  {
   "cell_type": "markdown",
   "metadata": {},
   "source": [
    "## The Loss Function"
   ]
  },
  {
   "cell_type": "code",
   "execution_count": null,
   "metadata": {},
   "outputs": [],
   "source": []
  },
  {
   "cell_type": "code",
   "execution_count": null,
   "metadata": {},
   "outputs": [],
   "source": []
  },
  {
   "cell_type": "code",
   "execution_count": null,
   "metadata": {},
   "outputs": [],
   "source": []
  },
  {
   "cell_type": "code",
   "execution_count": null,
   "metadata": {},
   "outputs": [],
   "source": []
  }
 ],
 "metadata": {
  "kernelspec": {
   "display_name": "Python 3",
   "language": "python",
   "name": "python3"
  },
  "language_info": {
   "codemirror_mode": {
    "name": "ipython",
    "version": 3
   },
   "file_extension": ".py",
   "mimetype": "text/x-python",
   "name": "python",
   "nbconvert_exporter": "python",
   "pygments_lexer": "ipython3",
   "version": "3.7.5"
  }
 },
 "nbformat": 4,
 "nbformat_minor": 4
}
