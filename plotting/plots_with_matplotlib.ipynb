{
 "cells": [
  {
   "cell_type": "code",
   "execution_count": 5,
   "id": "eb1ee569-de82-4ab9-9c57-e6b220681e5e",
   "metadata": {},
   "outputs": [],
   "source": [
    "import matplotlib.pyplot as plt\n",
    "import numpy as np\n",
    "import math"
   ]
  },
  {
   "cell_type": "code",
   "execution_count": 38,
   "id": "bec24c4f-329a-48c0-98b6-8e38f68233a0",
   "metadata": {},
   "outputs": [],
   "source": [
    "N = 10\n",
    "\n",
    "a = 0.5\n",
    "b = 2.0\n",
    "\n",
    "x_pts = np.linspace(0.0, 1, N)\n",
    "y_pts = list(map(lambda x: a+b*x, x_pts))"
   ]
  },
  {
   "cell_type": "code",
   "execution_count": 51,
   "id": "cf4c39ba-23dc-402a-847d-b3a9b06108f4",
   "metadata": {},
   "outputs": [
    {
     "data": {
      "image/png": "[encoded data removed]",
      "text/plain": [
       "<Figure size 576x360 with 1 Axes>"
      ]
     },
     "metadata": {
      "needs_background": "light"
     },
     "output_type": "display_data"
    }
   ],
   "source": [
    "fig, ax = plt.subplots(figsize=[8, 5])\n",
    "\n",
    "ax.plot(x_pts, y_pts, color='red', marker='o', alpha=0.5, linestyle='None', label='legend label')\n",
    "\n",
    "y_min = np.min(y_pts)\n",
    "y_max = np.max(y_pts)\n",
    "y_range = (y_min-0.1*abs(y_max-y_min), y_max+0.1*abs(y_max-y_min))\n",
    "\n",
    "x_min = np.min(x_pts)\n",
    "x_max = np.max(x_pts)\n",
    "x_range = (x_min-0.1*abs(x_max-x_min), x_max+0.1*abs(x_max-x_min))\n",
    "\n",
    "ax.set_xlabel('input: $x$', fontsize=15)\n",
    "ax.set_ylabel('output: $y$', fontsize=15)\n",
    "ax.set_ylim(y_range)\n",
    "ax.set_xlim(x_range)\n",
    "ax.set_title('title', fontsize=18)\n",
    "ax.legend(loc=1)\n",
    "\n",
    "textstr = 'parameters\\n$a=${a_par:.2f}, $b=${b_par:.1f}'.format(a_par=a, b_par=b)\n",
    "ax.text(0.1, 0.5, textstr, transform=ax.transAxes, fontsize=12,\n",
    "        verticalalignment='top', bbox={'boxstyle':'round', 'facecolor':'none', 'edgecolor':'grey'})\n",
    "\n",
    "# plt.savefig('out/bla.png', dpi=360)\n",
    "plt.show()"
   ]
  },
  {
   "cell_type": "code",
   "execution_count": null,
   "id": "16c499dd-7af0-4fea-9a68-1b51031e45f1",
   "metadata": {},
   "outputs": [],
   "source": []
  },
  {
   "cell_type": "code",
   "execution_count": null,
   "id": "c9a6c76d-e8c5-4a38-8fa8-02a4c05bdf77",
   "metadata": {},
   "outputs": [],
   "source": []
  }
 ],
 "metadata": {
  "kernelspec": {
   "display_name": "Python 3 (ipykernel)",
   "language": "python",
   "name": "python3"
  },
  "language_info": {
   "codemirror_mode": {
    "name": "ipython",
    "version": 3
   },
   "file_extension": ".py",
   "mimetype": "text/x-python",
   "name": "python",
   "nbconvert_exporter": "python",
   "pygments_lexer": "ipython3",
   "version": "3.8.12"
  }
 },
 "nbformat": 4,
 "nbformat_minor": 5
}
