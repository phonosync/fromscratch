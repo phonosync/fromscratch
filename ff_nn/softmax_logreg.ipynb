{
 "cells": [
  {
   "cell_type": "code",
   "execution_count": 160,
   "metadata": {},
   "outputs": [],
   "source": [
    "import numpy as np\n",
    "import matplotlib.pyplot as plt"
   ]
  },
  {
   "cell_type": "markdown",
   "metadata": {},
   "source": [
    "# Softmax Logistic Regression\n",
    "Multinomial logistic regression (for more than 2 classes), but still, each sample can only belong to one class.\n",
    "\n",
    "## The Model\n",
    "<img src=\"pics/softmax.png\">\n",
    "\n",
    "## The Data\n",
    "Make sure, it also works for separating the two Gaussian clouds:"
   ]
  },
  {
   "cell_type": "code",
   "execution_count": 176,
   "metadata": {},
   "outputs": [],
   "source": [
    "N = 100 # Total number of samples\n",
    "N_0 = int(N/2) # number of samples for class 0\n",
    "N_1 = int(N/2) # number of samples for class 1\n",
    "D = 2 # number of features/dimensions\n",
    "K = 2 # number of output classes"
   ]
  },
  {
   "cell_type": "code",
   "execution_count": 193,
   "metadata": {},
   "outputs": [
    {
     "data": {
      "text/plain": [
       "(100, 2)"
      ]
     },
     "execution_count": 193,
     "metadata": {},
     "output_type": "execute_result"
    }
   ],
   "source": [
    "mu_0 = [-2,-2]\n",
    "variance = 1\n",
    "\n",
    "mu_1 = [2,2]\n",
    "\n",
    "m_cov = [[variance, 0],\n",
    "         [0, variance]]\n",
    "np.random.seed(41) # make the results reproducible\n",
    "X = np.concatenate([np.random.multivariate_normal(mu_0, m_cov, N_0),\n",
    "                    np.random.multivariate_normal(mu_1, m_cov, N_1)],\n",
    "                   axis=0)\n",
    "X.shape"
   ]
  },
  {
   "cell_type": "markdown",
   "metadata": {},
   "source": [
    "The target labels (indicator matrix):"
   ]
  },
  {
   "cell_type": "code",
   "execution_count": 194,
   "metadata": {},
   "outputs": [],
   "source": [
    "T = np.zeros((N, K))\n",
    "T[0:N_0,0]=1\n",
    "T[N_0:,1]=1"
   ]
  },
  {
   "cell_type": "code",
   "execution_count": 195,
   "metadata": {},
   "outputs": [],
   "source": [
    "pred_T = np.argmax(T, axis=1)"
   ]
  },
  {
   "cell_type": "markdown",
   "metadata": {},
   "source": [
    "## Implementation of the Feed-Forward Pass\n",
    "Initialise random weights and bias terms"
   ]
  },
  {
   "cell_type": "code",
   "execution_count": 206,
   "metadata": {},
   "outputs": [],
   "source": [
    "np.random.seed(31)\n",
    "Winitial = np.random.randn(D, K)\n",
    "binitial = np.random.randn(K)"
   ]
  },
  {
   "cell_type": "code",
   "execution_count": 207,
   "metadata": {},
   "outputs": [],
   "source": [
    "def forward(Xi, Wi, bi):\n",
    "    Z = Xi.dot(Wi) + bi\n",
    "    expZ = np.exp(Z)\n",
    "    return expZ / expZ.sum(axis=1, keepdims=True) # (np.exp(Z).T / np.sum(np.exp(Z),axis=1)).T"
   ]
  },
  {
   "cell_type": "code",
   "execution_count": 208,
   "metadata": {},
   "outputs": [
    {
     "data": {
      "text/plain": [
       "(100, 2)"
      ]
     },
     "execution_count": 208,
     "metadata": {},
     "output_type": "execute_result"
    }
   ],
   "source": [
    "Y = forward(X, Winitial, binitial)\n",
    "Y.shape"
   ]
  },
  {
   "cell_type": "code",
   "execution_count": 209,
   "metadata": {},
   "outputs": [],
   "source": [
    "preds = np.argmax(Y, axis=1)"
   ]
  },
  {
   "cell_type": "markdown",
   "metadata": {},
   "source": [
    "The classification rate:"
   ]
  },
  {
   "cell_type": "code",
   "execution_count": 210,
   "metadata": {},
   "outputs": [
    {
     "data": {
      "text/plain": [
       "5.0"
      ]
     },
     "execution_count": 210,
     "metadata": {},
     "output_type": "execute_result"
    }
   ],
   "source": [
    "np.sum(preds == pred_T)/len(T)*100"
   ]
  },
  {
   "cell_type": "markdown",
   "metadata": {},
   "source": [
    "## The Loss Function\n",
    "Multinomial logistic regression has a slightly different loss function than binary logistic regression because it uses the softmax rather than the sigmoid classifier. Consider for all training samples $\\{x_n\\}$ and classes k:\n",
    "$t_{nk} = 1$ if the target for sample $n$ is of class $k$ and $=0$ otherwise. \n",
    "\n",
    "$$L_{\\mathbf{W}, b} \\stackrel{\\text{def}}{=} \\prod_{n=1}^N \\prod_{k=1}^K y_{nk}^{\\ \\Large t_{nk}}$$\n",
    "\n",
    "The Loss to be minimised is the negative log-likelihood, also called Categorical Cross Entropy Loss:\n",
    "\n",
    "$$L_{CE}\\stackrel{\\text{def}}{=} - \\sum_{n=1}^N \\sum_{k=1}^K t_{nk} \\log y_{nk} $$\n",
    "\n",
    "If the more $y_{nk}$ is wrong, the larger the loss: Consider just 1 sample:\n",
    "\n",
    "* Exactly right $\\; \\rightarrow \\; L_{CE}=0$\n",
    "* 50\\% probability on correct target $\\; \\rightarrow \\; L_{CE}=-1*\\cdot\\log(0.5)=0.693$\n",
    "* 25\\% probability on correct target $\\; \\rightarrow \\; L_{CE}=-1*\\cdot\\log(0.25)=1.386$\n",
    "* 0\\% probability on correct target $\\; \\rightarrow \\; L_{CE}=-1*\\cdot\\log(0)=\\infty$\n",
    "\n",
    "\n",
    "Or maximise the the log-likelihood:\n",
    "\n",
    "$$J = \\sum_{n=1}^N \\sum_{k=1}^K t_{nk} \\log y_{nk}$$\n"
   ]
  },
  {
   "cell_type": "code",
   "execution_count": 211,
   "metadata": {},
   "outputs": [],
   "source": [
    "def cat_cross_entropy_loss(Ti, Yi):\n",
    "    return -np.sum(Ti*np.log(Yi))"
   ]
  },
  {
   "cell_type": "code",
   "execution_count": 212,
   "metadata": {},
   "outputs": [
    {
     "data": {
      "text/plain": [
       "192.19436480213216"
      ]
     },
     "execution_count": 212,
     "metadata": {},
     "output_type": "execute_result"
    }
   ],
   "source": [
    "cat_cross_entropy_loss(T, Y)"
   ]
  },
  {
   "cell_type": "markdown",
   "metadata": {},
   "source": [
    "## Optimisation\n",
    "There is no closed-form solution for the optimal $W$ in softmax logistic regression $\\rightarrow$ find the partial derivaties of $J$ with respect to the $W_{dk}$ and perform gradient descent.\n",
    "\n",
    "$$z=W^Tx+b$$\n",
    "$$y=softmax(z)$$\n",
    "$$y_{nk} = \\frac{e^{z_{nk}}}{\\sum_{j=1}^K e^{z_{nj}}}$$\n",
    "\n",
    "When deriving the partial derivative of $J$ with respect to $W_{dk}$ one has to consider the particular structure of the softmax function: Each $y_{nk}$ is a function of all $\\{ a_{k'} \\}_{1}^K$, each of which in turn is a function of $W_{dk}$. Hence the additional dummy variable $k'$ in:\n",
    "$$\\frac{\\partial J}{\\partial W_{dk}} = \\sum_{n=1}^N \\sum_{i=1}^K \\frac{\\partial J_{nk'}}{\\partial y_{nk'}} \\frac{\\partial y_{nk'}}{\\partial z_{nk}} \\frac{\\partial z_{nk}}{\\partial W_{dk}}$$\n",
    "\n",
    "$$\\frac{\\partial J_{nk'}}{\\partial y_{nk'}} = \\frac{t_{nk'}}{y_{nk'}}$$\n",
    "\n",
    "$$\\begin{aligned}\n",
    "\\frac{\\partial y_{nk'}}{\\partial z_{nk}} &= (-1)  e^{z_{nk'}} \\left(\\sum_j e^{z_{nj}}\\right)^{-2}  e^{z_{nk}} \\; \\; \\; \\; \\text{if} \\; k'\\neq k\\\\\n",
    "&= (-1) \\frac{e^{z_{nk'}}}{\\sum_j e^{z_{nj}}} \\frac{e^{z_{nk}}}{\\sum_j e^{z_{nj}}}\\\\\n",
    "&= -y_{nk'}y_{nk}\\\\\n",
    "\\end{aligned}$$\n",
    "\n",
    "$$\\begin{aligned}\n",
    "\\frac{\\partial y_{nk'}}{\\partial z_{nk}} &=  e^{z_{nk'}} \\left(\\sum_j e^{z_{nj}}\\right)^{-1} -  e^{z_{nk'}} \\left(\\sum_j e^{z_{nj}}\\right)^{-2} e^{z_{nk}} \\; \\; \\; \\; \\text{if} \\; k'= k\\\\\n",
    "&= y_{nk'}(1-y_{nk}) \\; \\; \\; \\; \\text{although} \\; k=k'\\\\\n",
    "\\end{aligned}$$\n",
    "\n",
    "with\n",
    "$$\\begin{aligned}\n",
    "\\delta_{kk'} &= 1 \\; \\; \\; \\; \\text{if} \\; k'= k \\\\\n",
    "\\delta_{kk'} &= 0 \\; \\; \\; \\; \\text{if} \\; k'\\neq k\n",
    "\\end{aligned}$$\n",
    "the expression simplifies to\n",
    "$$\\frac{\\partial y_{nk'}}{\\partial z_{nk}} = y_{nk'}(\\delta_{kk'}-y_{nk})$$\n",
    "\n",
    "\n",
    "$$z_{nk} = W_{:,k}^{T}x_n + b_k$$\n",
    "$$\\frac{\\partial z_{nk}}{\\partial W_{dk}} = x_{nd}$$\n",
    "\n",
    "combine and simplify\n",
    "$$\\begin{aligned}\n",
    "\\frac{\\partial J}{\\partial W_{dk}} &= -\\sum_{n=1}^N \\sum_{i=1}^K \\frac{t_{ni}}{y_{ni}} y_{ni}(\\delta_{ki}-y_{nk}) x_{nd}\\\\\n",
    "&= -\\sum_{n=1}^N \\sum_{i=1}^K t_{ni}(\\delta_{ki}-y_{nk}) x_{nd}\\\\\n",
    "&= -\\sum_{n=1}^N x_{nd}\\left( \\sum_{i=1}^K t_{ni}\\delta_{ki}- \\sum_{i=1}^K t_{ni} y_{nk} \\right)\\\\\n",
    "&= -\\sum_{n=1}^N \\left(t_{nk} - y_{nk}\\right) x_{nd}\n",
    "\\end{aligned}$$\n",
    "\n",
    "In matrix form:\n",
    "$$\\nabla_{W} J=X^T(T-Y)$$\n",
    "\n",
    "In code - gradient of the categorical cross-entropy loss (flipped sign):"
   ]
  },
  {
   "cell_type": "code",
   "execution_count": 213,
   "metadata": {},
   "outputs": [],
   "source": [
    "def grad_w(Xi, Ti, Yi):\n",
    "    return Xi.T.dot(Yi-Ti)"
   ]
  },
  {
   "cell_type": "markdown",
   "metadata": {},
   "source": [
    "partial derivative with respect to bias term of class $k$:\n",
    "$$\\frac{\\partial J}{\\partial b_k} = \\sum_{n=1}^N \\sum_{i=1}^K \\frac{\\partial J_{ni}}{\\partial y_{ni}} \\frac{\\partial y_{ni}}{\\partial z_{nk}} \\frac{\\partial z_{nk}}{\\partial b_k}$$\n",
    "\n",
    "Realising that\n",
    "$$\\frac{\\partial z_{nk}}{\\partial b_k} = 1$$\n",
    "and plugging in the intermediate results from above:\n",
    "\n",
    "$$\\frac{\\partial J}{\\partial b_k} = \\sum_{n=1}^N \\left(t_{nk}-y_{nk}\\right)$$\n",
    "\n",
    "In code (flipped sign):"
   ]
  },
  {
   "cell_type": "code",
   "execution_count": 225,
   "metadata": {},
   "outputs": [],
   "source": [
    "def grad_b(Ti, Yi):\n",
    "    return np.sum(Yi-Ti, axis=0)"
   ]
  },
  {
   "cell_type": "code",
   "execution_count": 221,
   "metadata": {},
   "outputs": [],
   "source": [
    "iterations = 1000\n",
    "lrate = 1e-4\n",
    "losses = []\n",
    "\n",
    "W = np.random.randn(D, K)\n",
    "b = np.random.randn(K)\n",
    "\n",
    "for i in range(iterations):\n",
    "    Y = forward(X, W, b)\n",
    "    loss = cat_cross_entropy_loss(T, Y)\n",
    "    losses.append(loss)\n",
    "    W = W - (lrate * grad_w(X, T, Y)) # minimise: follow the negative gradient\n",
    "    b = b -(lrate * grad_b(T, Y))"
   ]
  },
  {
   "cell_type": "code",
   "execution_count": 222,
   "metadata": {},
   "outputs": [
    {
     "data": {
      "text/plain": [
       "[<matplotlib.lines.Line2D at 0x11acdf898>]"
      ]
     },
     "execution_count": 222,
     "metadata": {},
     "output_type": "execute_result"
    },
    {
     "data": {
      "image/png": "[encoded data removed]",
      "text/plain": [
       "<Figure size 432x288 with 1 Axes>"
      ]
     },
     "metadata": {
      "needs_background": "light"
     },
     "output_type": "display_data"
    }
   ],
   "source": [
    "plt.plot(losses)"
   ]
  },
  {
   "cell_type": "code",
   "execution_count": 223,
   "metadata": {},
   "outputs": [
    {
     "data": {
      "text/plain": [
       "array([[-1.19296432, -0.07953072],\n",
       "       [-1.14811897,  1.74749873]])"
      ]
     },
     "execution_count": 223,
     "metadata": {},
     "output_type": "execute_result"
    }
   ],
   "source": [
    "W"
   ]
  },
  {
   "cell_type": "markdown",
   "metadata": {},
   "source": [
    "The classification rate:"
   ]
  },
  {
   "cell_type": "code",
   "execution_count": 224,
   "metadata": {},
   "outputs": [
    {
     "data": {
      "text/plain": [
       "99.0"
      ]
     },
     "execution_count": 224,
     "metadata": {},
     "output_type": "execute_result"
    }
   ],
   "source": [
    "np.sum(np.argmax(Y, axis=1) == pred_T)/len(T)*100"
   ]
  },
  {
   "cell_type": "code",
   "execution_count": null,
   "metadata": {},
   "outputs": [],
   "source": []
  }
 ],
 "metadata": {
  "kernelspec": {
   "display_name": "Python 3",
   "language": "python",
   "name": "python3"
  },
  "language_info": {
   "codemirror_mode": {
    "name": "ipython",
    "version": 3
   },
   "file_extension": ".py",
   "mimetype": "text/x-python",
   "name": "python",
   "nbconvert_exporter": "python",
   "pygments_lexer": "ipython3",
   "version": "3.7.0"
  }
 },
 "nbformat": 4,
 "nbformat_minor": 4
}
