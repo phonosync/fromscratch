{
 "cells": [
  {
   "cell_type": "code",
   "execution_count": 1,
   "metadata": {},
   "outputs": [],
   "source": [
    "import matplotlib.pyplot as plt\n",
    "import numpy as np\n",
    "import seaborn as sns\n",
    "import scipy.stats as stats\n",
    "import math\n",
    "import pandas as pd"
   ]
  },
  {
   "cell_type": "markdown",
   "metadata": {},
   "source": [
    "# Logistic Regression\n",
    "Binary Logistic Regression: A classification model that can separate the data into two classes 0/1.\n"
   ]
  },
  {
   "cell_type": "markdown",
   "metadata": {},
   "source": [
    "# The Perceptron\n",
    "<img src=\"pics/perc.png\">\n",
    "\n",
    "The neural unit froms a linear combination of the input $x$: $z=w\\cdot x+b$, which is passed into a non-linear activation function, e.g. the sigmoid: $\\sigma(z)=\\frac{1}{1+\\exp^{-z}}$\n",
    "\n",
    "Therefore, the logistic regression model looks like:\n",
    "$$f_{\\mathbf{w},b}(x) = \\frac{1}{1+\\exp^{-(\\mathbf{w}\\cdot x+b)}}$$\n",
    "\n",
    "By looking at the graph of the sigmoid function you can see how well it fits the purpose in classification. It squashes $z$ onto the the domain (0,1). If we weights $\\mathbf{w}$ and $b$ are optimised appropriately, we can interpret the output of $f(\\mathbf{x})$ as the probability of $y_i$ being positive. For example, if it's higher than or equal to the threshold 0.5 we could say that the class of $x$ is positive; otherwise it is negative."
   ]
  },
  {
   "cell_type": "code",
   "execution_count": 2,
   "metadata": {},
   "outputs": [],
   "source": [
    "def sigmoid(z):\n",
    "    return 1.0/(1.0+np.exp(-z))"
   ]
  },
  {
   "cell_type": "code",
   "execution_count": 3,
   "metadata": {},
   "outputs": [
    {
     "data": {
      "text/plain": [
       "[<matplotlib.lines.Line2D at 0x118e49828>]"
      ]
     },
     "execution_count": 3,
     "metadata": {},
     "output_type": "execute_result"
    },
    {
     "data": {
      "image/png": "[encoded data removed]",
      "text/plain": [
       "<Figure size 432x288 with 1 Axes>"
      ]
     },
     "metadata": {
      "needs_background": "light"
     },
     "output_type": "display_data"
    }
   ],
   "source": [
    "x = np.arange(-10., 10., 0.2)\n",
    "y = list(map(sigmoid, x))\n",
    "plt.title('The Logistic Function')\n",
    "plt.xlabel('x')\n",
    "plt.ylabel('y')\n",
    "plt.plot(x,y, linewidth=3)"
   ]
  },
  {
   "cell_type": "markdown",
   "metadata": {},
   "source": [
    "## The Data\n",
    "We construct a synthetic data set for which a closed form solution of the logistic regression model exists\n",
    "* two classes 0/1\n",
    "* the data follows a bivariate Gaussian distribution\n",
    "* the marginals have the same variance and off-diagonal elements of the covariance matrix are zero (Naive Bayes)\n",
    "\n",
    "Recap: Normal distribution of one random variable $x$ with standard deviation $\\sigma$ (variance $\\sigma^2$) and mean $\\mu$: \n",
    "$$f(x)=\\frac{1}{\\sigma\\sqrt{2\\pi}}\\exp^{-\\frac{1}{2}\\left(\\frac{x-\\mu}{\\sigma}\\right)^2}$$"
   ]
  },
  {
   "cell_type": "code",
   "execution_count": 4,
   "metadata": {},
   "outputs": [
    {
     "data": {
      "text/plain": [
       "<matplotlib.axes._subplots.AxesSubplot at 0x118eac0f0>"
      ]
     },
     "execution_count": 4,
     "metadata": {},
     "output_type": "execute_result"
    },
    {
     "data": {
      "image/png": "[encoded data removed]",
      "text/plain": [
       "<Figure size 432x288 with 1 Axes>"
      ]
     },
     "metadata": {
      "needs_background": "light"
     },
     "output_type": "display_data"
    }
   ],
   "source": [
    "mu = 0\n",
    "variance = 1\n",
    "sigma = math.sqrt(variance)\n",
    "x = np.linspace(mu - 3*sigma, mu + 3*sigma, 100)\n",
    "sns.lineplot(x, stats.norm.pdf(x, mu, sigma))"
   ]
  },
  {
   "cell_type": "markdown",
   "metadata": {},
   "source": [
    "The multivariate Gaussian distribution is a generalization of the one-dimensional (univariate) normal distribution. pdf:\n",
    "$$p(\\mathbf{X})=\\frac{1}{\\sqrt{\\left(2\\pi\\right)^D|\\mathbf{\\Sigma}|}}\\exp^{-\\frac{1}{2}\\left(\\mathbf{X}-\\mathbf{\\mu}\\right)^T\\mathbf{\\Sigma}^{-1}\\left(\\mathbf{X}-\\mathbf{\\mu}\\right)}$$\n",
    "\n",
    "with a $D$-dimensional random vector $\\mathbf{X} = (X_1,\\ldots,X_k)^{\\mathrm T}$\n",
    "\n",
    "the $D$-dimensional mean vector:\n",
    "$$ \\boldsymbol\\mu = \\operatorname{E}[\\mathbf{X}] = ( \\operatorname{E}[X_1], \\operatorname{E}[X_2], \\ldots, \\operatorname{E}[X_k] )$$\n",
    "and the $D \\times D$ covariance matrix\n",
    "$$\\Sigma_{i,j} = \\operatorname{E} [(X_i - \\mu_i)( X_j - \\mu_j)] = \\operatorname{Cov}[X_i, X_j]$$\n",
    "\n",
    "such that $1 \\le i,j \\le D.$ The inverse of the covariance matrix $\\boldsymbol\\Sigma^{-1}$ is called concentration matrix or precision matrix.\n",
    "\n",
    "For your input data we now construct a multivariate normal distribution from two marginal distributions (class 0 and 1): One Gaussian centered at $\\mu_0=(-2,-2)^T$, the other centered at $\\mu_1=(2,2)^T$. Both have the same covariance $\\Sigma=\\begin{pmatrix}1 & 0\\\\ 0 & 1\\end{pmatrix}$\n",
    "\n",
    "$N$: total number of samples/data points  \n",
    "$D$: number of features  \n",
    "\n",
    "Equal number of samples per class"
   ]
  },
  {
   "cell_type": "code",
   "execution_count": 5,
   "metadata": {},
   "outputs": [],
   "source": [
    "N = 100 # number of samples\n",
    "D = 2 # number of features"
   ]
  },
  {
   "cell_type": "code",
   "execution_count": 6,
   "metadata": {},
   "outputs": [],
   "source": [
    "# X = np.random.randn(N,D)\n",
    "# X[:50, :] = X[:50,:] - 2*np.ones((50,D))\n",
    "# X[50:, :] = X[50:, :] + 2*np.ones((50,D))\n",
    "\n",
    "N_0 = int(N/2) # number of samples for class 0\n",
    "N_1 = int(N/2) # number of samples for class 1\n",
    "\n",
    "mu_0 = [-2,-2]\n",
    "variance = 1\n",
    "\n",
    "mu_1 = [2,2]\n",
    "\n",
    "m_cov = [[variance, 0],\n",
    "         [0, variance]]"
   ]
  },
  {
   "cell_type": "code",
   "execution_count": 7,
   "metadata": {},
   "outputs": [
    {
     "data": {
      "text/plain": [
       "(100, 2)"
      ]
     },
     "execution_count": 7,
     "metadata": {},
     "output_type": "execute_result"
    }
   ],
   "source": [
    "np.random.seed(41) # make the results reproducible\n",
    "X = np.concatenate([np.random.multivariate_normal(mu_0, m_cov, N_0),\n",
    "                    np.random.multivariate_normal(mu_1, m_cov, N_1)],\n",
    "                   axis=0)\n",
    "X.shape"
   ]
  },
  {
   "cell_type": "markdown",
   "metadata": {},
   "source": [
    "The target labels:"
   ]
  },
  {
   "cell_type": "code",
   "execution_count": 8,
   "metadata": {},
   "outputs": [],
   "source": [
    "T = np.array([0]*N_0 + [1]*N_1)"
   ]
  },
  {
   "cell_type": "code",
   "execution_count": 9,
   "metadata": {},
   "outputs": [],
   "source": [
    "df = pd.DataFrame(X, columns=['x', 'y',])\n",
    "df['class'] = T"
   ]
  },
  {
   "cell_type": "code",
   "execution_count": 10,
   "metadata": {},
   "outputs": [],
   "source": [
    "# in a separate module to avoid distraction\n",
    "from lreg_helpers import multivariateGrid"
   ]
  },
  {
   "cell_type": "code",
   "execution_count": 11,
   "metadata": {},
   "outputs": [
    {
     "data": {
      "image/png": "[encoded data removed]",
      "text/plain": [
       "<Figure size 432x432 with 3 Axes>"
      ]
     },
     "metadata": {
      "needs_background": "light"
     },
     "output_type": "display_data"
    }
   ],
   "source": [
    "multivariateGrid('x', 'y', 'class', df=df)"
   ]
  },
  {
   "cell_type": "markdown",
   "metadata": {},
   "source": [
    "## Implementation of the Feed-Forward Pass\n",
    "$\\mathbf{Y}_{N\\times 1}=\\sigma\\left(\\mathbf{X}_{N\\times D}\\cdot \\mathbf{W}_{D\\times 1}+b_{N\\times 1}\\right)$ with the sigmoid applied element-wise\n",
    "\n",
    "equivalent to incorporating $b$ in the weights and adding a columns of ones to $\\mathbf{X}$: \n",
    "$\\mathbf{Y}_{N\\times 1}=\\sigma\\left(\\left[\\overline{1}, \\mathbf{X}\\right]_{N\\times D+1}\\cdot \\left[b,w_1,...,w_D\\right]_{D+1\\times 1}\\right)$"
   ]
  },
  {
   "cell_type": "code",
   "execution_count": 12,
   "metadata": {},
   "outputs": [
    {
     "data": {
      "text/plain": [
       "(100, 1)"
      ]
     },
     "execution_count": 12,
     "metadata": {},
     "output_type": "execute_result"
    }
   ],
   "source": [
    "ones = np.array([[1]*N]).T\n",
    "ones.shape"
   ]
  },
  {
   "cell_type": "code",
   "execution_count": 13,
   "metadata": {},
   "outputs": [
    {
     "data": {
      "text/plain": [
       "(100, 3)"
      ]
     },
     "execution_count": 13,
     "metadata": {},
     "output_type": "execute_result"
    }
   ],
   "source": [
    "Xb = np.concatenate((ones, X), axis=1)\n",
    "Xb.shape"
   ]
  },
  {
   "cell_type": "markdown",
   "metadata": {},
   "source": [
    "Initialise the weights vector randomly from a normal distribution"
   ]
  },
  {
   "cell_type": "code",
   "execution_count": 14,
   "metadata": {},
   "outputs": [],
   "source": [
    "W = np.random.randn(D + 1) # the first element is the bias term b"
   ]
  },
  {
   "cell_type": "markdown",
   "metadata": {},
   "source": [
    "Calculate the dot product between each row of X with the weights vector:"
   ]
  },
  {
   "cell_type": "code",
   "execution_count": 15,
   "metadata": {},
   "outputs": [
    {
     "data": {
      "text/plain": [
       "(100,)"
      ]
     },
     "execution_count": 15,
     "metadata": {},
     "output_type": "execute_result"
    }
   ],
   "source": [
    "Z = Xb.dot(W)\n",
    "Z.shape"
   ]
  },
  {
   "cell_type": "markdown",
   "metadata": {},
   "source": [
    "Apply sigmoid to each element in $\\mathbf{Z}$"
   ]
  },
  {
   "cell_type": "code",
   "execution_count": 16,
   "metadata": {},
   "outputs": [
    {
     "data": {
      "text/plain": [
       "(100,)"
      ]
     },
     "execution_count": 16,
     "metadata": {},
     "output_type": "execute_result"
    }
   ],
   "source": [
    "Y = sigmoid(Z)\n",
    "Y.shape"
   ]
  },
  {
   "cell_type": "markdown",
   "metadata": {},
   "source": [
    "We get an $N$ dimensional output vector, each value between 0 and 1"
   ]
  },
  {
   "cell_type": "code",
   "execution_count": 17,
   "metadata": {},
   "outputs": [
    {
     "data": {
      "text/plain": [
       "array([0.07857417, 0.13416845, 0.16394872, 0.07200735, 0.05607329,\n",
       "       0.08414536, 0.0598706 , 0.03847981, 0.046371  , 0.18841081,\n",
       "       0.04184845, 0.10942109, 0.26489916, 0.12220989, 0.23382576,\n",
       "       0.16089043, 0.05494789, 0.23304133, 0.10875319, 0.07219884,\n",
       "       0.0993317 , 0.08565297, 0.15930237, 0.19434353, 0.06516812,\n",
       "       0.15051165, 0.09518452, 0.11129435, 0.08463558, 0.02894559,\n",
       "       0.35553072, 0.28862635, 0.05029387, 0.24876496, 0.12222981,\n",
       "       0.18098627, 0.11079519, 0.1553117 , 0.14579836, 0.04663735,\n",
       "       0.11208699, 0.09478097, 0.03039886, 0.05188205, 0.088893  ,\n",
       "       0.22461426, 0.0528192 , 0.0456811 , 0.18944049, 0.06106788,\n",
       "       0.13448393, 0.28535174, 0.22265529, 0.37425162, 0.3918355 ,\n",
       "       0.42537114, 0.45725173, 0.36663913, 0.31244761, 0.30350377,\n",
       "       0.21381565, 0.16477995, 0.43272193, 0.37707742, 0.67822103,\n",
       "       0.46198705, 0.2133897 , 0.53316562, 0.3606359 , 0.40693073,\n",
       "       0.66913562, 0.41950465, 0.42598303, 0.41754496, 0.40905019,\n",
       "       0.41664246, 0.48237792, 0.47934173, 0.45435302, 0.3380663 ,\n",
       "       0.25362783, 0.40818527, 0.32926222, 0.47403417, 0.16351836,\n",
       "       0.67121105, 0.26822709, 0.22711186, 0.57258088, 0.41087004,\n",
       "       0.13979136, 0.27999879, 0.51876127, 0.44008174, 0.227747  ,\n",
       "       0.24333071, 0.42014951, 0.74297571, 0.54323378, 0.35719015])"
      ]
     },
     "execution_count": 17,
     "metadata": {},
     "output_type": "execute_result"
    }
   ],
   "source": [
    "Y"
   ]
  },
  {
   "cell_type": "code",
   "execution_count": 19,
   "metadata": {},
   "outputs": [
    {
     "name": "stdout",
     "output_type": "stream",
     "text": [
      "[0. 0. 0. 0. 0. 0. 0. 0. 0. 0. 0. 0. 0. 0. 0. 0. 0. 0. 0. 0. 0. 0. 0. 0.\n",
      " 0. 0. 0. 0. 0. 0. 0. 0. 0. 0. 0. 0. 0. 0. 0. 0. 0. 0. 0. 0. 0. 0. 0. 0.\n",
      " 0. 0. 0. 0. 0. 0. 0. 0. 0. 0. 0. 0. 0. 0. 0. 0. 1. 0. 0. 1. 0. 0. 1. 0.\n",
      " 0. 0. 0. 0. 0. 0. 0. 0. 0. 0. 0. 0. 0. 1. 0. 0. 1. 0. 0. 0. 1. 0. 0. 0.\n",
      " 0. 1. 1. 0.]\n"
     ]
    }
   ],
   "source": [
    "pred = np.round(Y)\n",
    "print(pred)"
   ]
  },
  {
   "cell_type": "code",
   "execution_count": null,
   "metadata": {},
   "outputs": [],
   "source": []
  },
  {
   "cell_type": "markdown",
   "metadata": {},
   "source": [
    "## The Loss Function\n",
    "The optimization criterion in logistic regression is called maximum likelihood. We maximise the likelihood of the observations in the training set according to the model.\n",
    "\n",
    "Consider a ($D$-dimensional) training example $\\mathbf{x}_{n}$ and the corresponding target value $t_{n}$ (binary: 0 or 1). Applying the logistic regression model to $\\mathbf{x}_{n}$ \n",
    "\n",
    "$$y_n = f_{\\mathbf{w},b}(\\mathbf{x}_n)$$\n",
    "\n",
    "yields a value $0<y_n<1$. If $t_n$ is 1, the likelihood of $t_n$ being the positive class, according to our model, is given by $y_n$. Similarly, if $t_n$ is 0, the likelihood of it being the class 0 is given by $1-y_n$.\n",
    "\n",
    "the likelihood of the training data according to our model\n",
    "$$L_{\\mathbf{w}, b} \\stackrel{\\text{def}}{=} \\prod_{n=1}^N y_n^{t_n}(1-y_n)^{1-t_n}$$\n",
    "$y_n$ when $t_n=1$ and $1-y_n$ otherwise.\n",
    "\n",
    "The log-likelihood is more practical (e.g. numerical underflow and we can consider contributions from all samples $N$, even if we predict 1 for $t_n=0$ and 0 for $t_n=1$ for some):\n",
    "\n",
    "$$\\log L_{\\mathbf{w},b} \\stackrel{\\text{def}}{=} \\ln \\left(L_{\\mathbf{w},b}\\left(\\mathbf{x}_n\\right)\\right)=\\sum_{n=1}^N \\left[t_n \\ln y_n +(1-t_n) \\ln(1-y_n) \\right]$$\n",
    "\n",
    "if $t_n=1$ only first term matters, if $t_n=0$ only second term matters\n",
    "\n",
    "$\\ln y \\rightarrow$ number between $0$ and $-\\inf$\n",
    "\n",
    "* $t_n=1,\\; y_n=1 \\; \\rightarrow \\; 0$\n",
    "* $t_n=0,\\; y_n=0 \\; \\rightarrow \\; 0$\n",
    "* $t_n=1\\; y_n=0.9 \\; \\text{(very close)} \\; \\rightarrow \\; 0.11$\n",
    "* $t_n=1,\\; y_n=0.5 \\; \\text{(right on the decision boundary)} \\; \\rightarrow \\; 0.69$\n",
    "* $t_n=1,\\; y_n=0.1 \\; \\text{(very wrong)} \\; \\rightarrow \\; 2.3$\n",
    "\n",
    "Correspondingly, we can also minimise the negative of the log-likelihood, which is called the log-likelihood error or cross-entropy error.\n",
    "\n",
    "$$J \\stackrel{\\text{def}}{=} - \\sum_{n=1}^N \\left[t_n \\ln y_n +(1-t_n) \\ln(1-y_n) \\right]$$"
   ]
  },
  {
   "cell_type": "code",
   "execution_count": 18,
   "metadata": {},
   "outputs": [],
   "source": [
    "def cross_entropy(T, Y):\n",
    "    E = 0\n",
    "    for n in range(N): # sum over all the samples\n",
    "        if T[n] == 1:\n",
    "            E -= np.log(Y[n])\n",
    "        else:\n",
    "            E -= np.log(1 - Y[n])\n",
    "    return E"
   ]
  },
  {
   "cell_type": "markdown",
   "metadata": {},
   "source": [
    "Calculate the cross-entropy error of the outputs that were generated above with the randomly chosen weights:"
   ]
  },
  {
   "cell_type": "code",
   "execution_count": 19,
   "metadata": {},
   "outputs": [
    {
     "data": {
      "text/plain": [
       "57.835657891702766"
      ]
     },
     "execution_count": 19,
     "metadata": {},
     "output_type": "execute_result"
    }
   ],
   "source": [
    "cross_entropy(T,Y)"
   ]
  },
  {
   "cell_type": "code",
   "execution_count": null,
   "metadata": {},
   "outputs": [],
   "source": []
  },
  {
   "cell_type": "markdown",
   "metadata": {},
   "source": [
    "# The Closed Form Solution\n",
    "Logistic regression is about finding the hyperplance that separates the (in this case 2) groups.  \n",
    "If the data follows a bivariate Gaussian distribution with equal covariance of the two marginals we can use Bayes' method to find an analytical solution for the optimal weights.\n",
    "\n",
    "Bayes' Theorem:\n",
    "$$p(Y|X)=\\frac{p(x|Y)p(Y)}{p(X)}$$\n",
    "The posterior $p(Y|X)$ (the probability of observing $Y$ given $X$) is equal to  the likelihood $p(X|Y)$ times the prior $p(Y)$ in relation to $p(X)$.  \n",
    "$p(X|Y)$ is the Gaussian - we calculate it over all the data that belongs to class $Y$. $p(Y)$ can be estimated from the frequency class $Y$ appears in the data.\n",
    "\n",
    "Rearrange Bayes' rule for $p(X)$\n",
    "$$\\begin{aligned}\n",
    "p(X) &=\\frac{p(X|Y=0)p(Y=0)}{p(Y=0|X)}\\\\\n",
    "p(Y=0|X) p(X) &= p(X|Y=0)p(Y=0)\n",
    "\\end{aligned}$$\n",
    "and\n",
    "$$\\begin{aligned}\n",
    "p(X) &=\\frac{p(X|Y=1)p(Y=1)}{p(Y=1|X)}\\\\\n",
    "p(Y=1|X) p(X) &= p(X|Y=1)p(Y=1)\n",
    "\\end{aligned}$$\n",
    "\n",
    "add them up and realise that $p(Y=0|X)+p(Y=1|X) = 1$\n",
    "\n",
    "$$p(X)=p(X|Y=0)p(Y=0)+p(X|Y=1)p(Y=1)$$\n",
    "\n",
    "Now insert the positive class $Y=1$ and the expression for $p(X)$ into Bayes' rule: \n",
    "\n",
    "$$p(Y=1|X)=\\frac{p(x|Y=1)p(Y=1)}{p(X|Y=0)p(Y=0)+p(X|Y=1)p(Y=1)}$$\n",
    "\n",
    "divide top and bottom by $p(X|Y=1)p(Y=1)$\n",
    "\n",
    "$$p(Y=1|X)=\\frac{1}{1+\\frac{p(X|Y=0)p(Y=0)}{p(X|Y=1)p(Y=1)}}$$\n",
    "\n",
    "This now looks very similar to the sigmoid, therefore\n",
    "\n",
    "$$\\begin{aligned}\n",
    "-\\mathbf{X}\\mathbf{W}+b &= \\ln\\left(\\frac{p(X|Y=0)p(Y=0)}{p(X|Y=1)p(Y=1)}\\right)\\\\\n",
    "&= \\ln p(X|Y=0) - \\ln p(X|Y=1) + \\ln \\frac{p(Y=0)}{p(Y=1)}\n",
    "\\end{aligned}$$\n",
    "\n",
    "insert the Gaussians for the two likelihood marginals and simplify\n",
    "\n",
    "$$\\begin{aligned}\n",
    "=& \\ln \\frac{1}{\\sqrt{\\left(2\\pi\\right)^k|\\mathbf{\\Sigma}|}}\\exp^{-\\frac{1}{2}\\left(\\mathbf{X}-\\mathbf{\\mu}_0\\right)^T\\mathbf{\\Sigma}^{-1}\\left(\\mathbf{X}-\\mu_0\\right)} - \\ln \\frac{1}{\\sqrt{\\left(2\\pi\\right)^k|\\mathbf{\\Sigma}|}}\\exp^{-\\frac{1}{2}\\left(\\mathbf{X}-\\mu_1\\right)^T\\mathbf{\\Sigma}^{-1}\\left(\\mathbf{X}-\\mu_1\\right)} + \\ln \\frac{p(Y=0)}{p(Y=1)}\\\\\n",
    "=& -\\frac{1}{2}\\left(\\mathbf{X}^T\\mathbf{\\Sigma}^{-1}\\mathbf{X}-\\mathbf{X}^T\\mathbf{\\Sigma}^{-1}\\mathbf{\\mu}_0-\\mathbf{\\mu}_0^T\\mathbf{\\Sigma}^{-1}\\mathbf{X}+\\mathbf{\\mu}_0^T\\mathbf{\\Sigma}^{-1}\\mathbf{\\mu}_0\\right)\\\\\n",
    "& + \\frac{1}{2}\\left(\\mathbf{X}^T\\mathbf{\\Sigma}^{-1}\\mathbf{X}-\\mathbf{X}^T\\mathbf{\\Sigma}^{-1}\\mathbf{\\mu}_1-\\mathbf{\\mu}_1^T\\mathbf{\\Sigma}^{-1}\\mathbf{X}+\\mathbf{\\mu}_1^T\\mathbf{\\Sigma}^{-1}\\mathbf{\\mu}_1 \\right)\\\\\n",
    "& + \\ln \\frac{p(Y=0)}{p(Y=1)}\n",
    "\\end{aligned}$$\n",
    "\n",
    "The terms quadratic in $X$ cancel out and since the covariance matrix, and hence its inverse, is symmetric: $\\mathbf{X}^T\\mathbf{\\Sigma}^{-1}\\mathbf{\\mu}=\\mathbf{\\mu}^T\\mathbf{\\Sigma}^{-1}\\mathbf{X}$\n",
    "\n",
    "$$-\\mathbf{X}\\mathbf{W}+b = (\\mu_0^T-\\mu_1^T)\\mathbf{\\Sigma}^{-1}\\mathbf{X} - \\frac{1}{2}\\mu_0^T\\mathbf{\\Sigma}^{-1}\\mu_0+\\frac{1}{2}\\mu_1^T\\mathbf{\\Sigma}^{-1}\\mu_1 + \\ln \\frac{p(Y=0)}{p(Y=1)}$$\n",
    "\n",
    "Finally\n",
    "\n",
    "$$\\mathbf{W} = (\\mu_1^T-\\mu_0^T)\\mathbf{\\Sigma}^{-1}$$\n",
    "$$b = \\frac{1}{2}\\mu_0^T\\mathbf{\\Sigma}^{-1}\\mu_0-\\frac{1}{2}\\mu_1^T\\mathbf{\\Sigma}^{-1}\\mu_1 - \\ln \\frac{p(Y=0)}{p(Y=1)}$$\n",
    "\n",
    "plug in $\\mu_0=(-2,-2)^T$, $\\mu_1=(2,2)^T$ and $\\Sigma=\\begin{pmatrix}1 & 0\\\\ 0 & 1\\end{pmatrix}$. Both classes have an equal amount of samples ($\\rightarrow \\ln(1)=0$)\n",
    "\n",
    "$\\rightarrow b=0, \\mathbf{W} = (4,4)$"
   ]
  },
  {
   "cell_type": "code",
   "execution_count": 20,
   "metadata": {},
   "outputs": [],
   "source": [
    "w_cf = np.array([0, 4, 4])"
   ]
  },
  {
   "cell_type": "markdown",
   "metadata": {},
   "source": [
    "Calculate the cross entropy error of the outputs generated with the weights according to the closed-form solution:"
   ]
  },
  {
   "cell_type": "code",
   "execution_count": 21,
   "metadata": {},
   "outputs": [
    {
     "data": {
      "text/plain": [
       "0.3439512090041786"
      ]
     },
     "execution_count": 21,
     "metadata": {},
     "output_type": "execute_result"
    }
   ],
   "source": [
    "Y_cf = sigmoid(Xb.dot(w_cf))\n",
    "cross_entropy(T, Y_cf)"
   ]
  },
  {
   "cell_type": "markdown",
   "metadata": {},
   "source": [
    "And compare with the result above from the randomly chosen weights!\n",
    "\n",
    "We can now use the weights to identify the decision boundary that separates classes 0 and 1: It is the line where $p(Y=0) = p(Y=1) = 0.5$\n",
    "$$p(Y=1) = \\frac{1}{1+\\exp^{-XW+b}} \\; \\rightarrow \\; -XW+b = 0$$\n",
    "Insert the optimal weights\n",
    "\n",
    "$$1\\cdot 0+x_1 \\cdot 4+ x_2 \\cdot 4=0 \\; \\rightarrow \\; x_2=-x_1$$\n",
    "\n",
    "We can add this line in the plot:"
   ]
  },
  {
   "cell_type": "code",
   "execution_count": 22,
   "metadata": {},
   "outputs": [],
   "source": [
    "x_line = np.linspace(-6, 6, 100)"
   ]
  },
  {
   "cell_type": "code",
   "execution_count": 24,
   "metadata": {},
   "outputs": [
    {
     "data": {
      "image/png": "[encoded data removed]",
      "text/plain": [
       "<Figure size 432x432 with 3 Axes>"
      ]
     },
     "metadata": {
      "needs_background": "light"
     },
     "output_type": "display_data"
    }
   ],
   "source": [
    "multivariateGrid('x', 'y', 'class', df=df, line=np.array([x_line, -x_line]))"
   ]
  },
  {
   "cell_type": "markdown",
   "metadata": {},
   "source": [
    "# Gradient Descent\n",
    "Optimise the weights numerically and see how close we get to the closed-form solution.\n",
    "\n",
    "$$J \\stackrel{\\text{def}}{=} - \\sum_{n=1}^N \\left[t_n \\ln y_n +(1-t_n) \\ln(1-y_n) \\right]$$\n",
    "\n",
    "Use the chain rule to calculate the partial derivative of the cross entropy loss with respect to the individual weights $w_i$:\n",
    "\n",
    "$$\\frac{\\partial J}{\\partial w_i} = \\sum_{n=1}^N \\frac{\\partial J}{\\partial y_n} \\frac{\\partial y_n}{\\partial z_n} \\frac{\\partial z_n}{\\partial w_i}$$\n",
    "\n",
    "$$\\frac{\\partial J}{\\partial y_n} = - t_n \\frac{1}{y_n} - (1-t_n) \\frac{1}{1-y_n} (-1)$$\n",
    "\n",
    "remainder: $y_n = \\frac{1}{1+\\exp^{-\\mathbf{z_n}}}$\n",
    "\n",
    "$$\\begin{aligned}\n",
    "\\frac{\\partial y_n}{\\partial z_n} &= \\frac{-1}{(1+\\exp^{-\\mathbf{z_n}})^2}(\\exp^{-z})(-1)\\\\\n",
    "&= y_n \\frac{\\exp^{-z}}{1+\\exp^{-z}}\\\\\n",
    "&= y_n \\frac{1+\\exp^{-z}-1}{1+\\exp^{-z}}\\\\\n",
    "&= y_n \\left( \\frac{1+\\exp^{-z}}{1+\\exp^{-z}} - \\frac{1}{1+\\exp^{-z}} \\right)\\\\\n",
    "&= y_n (1-y_n)\\\\\n",
    "\\end{aligned}$$\n",
    "\n",
    "remainder: $z_n = w_0 x_{n,0} + w_1 x_{n,1} + w_2 x_{n,2} + ...$\n",
    "\n",
    "$$\\frac{\\partial z_n}{\\partial w_i}= x_{n,i}$$\n",
    "\n",
    "Putting it all together:\n",
    "\n",
    "$$\\begin{aligned}\n",
    "\\frac{\\partial J}{\\partial w_i} &= -\\sum_{n=1}^N t_n \\frac{1}{y_n} y_n (1-y_n) x_{n,i} - (1-t_n) \\frac{1}{1-y_n} y_n (1-y_n) x_{n,i}\\\\\n",
    "&= -\\sum_{n=1}^N t_n (1-y_n) x_{n,i} - (1-t_n) y_n x_{n,i}\\\\\n",
    "&= \\sum_{n=1}^N (y_n - t_n) x_{n,i}\\\\\n",
    "\\end{aligned}$$\n",
    "\n",
    "This can be expressed in vector form:\n",
    "\n",
    "$$\\begin{aligned}\n",
    "\\frac{\\partial J}{\\partial \\mathbf{W}} &= \\sum_{n=1}^N (y_n - t_n) \\mathbf{X}_{n}\\\\\n",
    "&= \\mathbf{X}^T \\left(\\mathbf{Y}-\\mathbf{T}\\right) \\; \\rightarrow \\text{shape} D\\times 1\n",
    "\\end{aligned}$$\n",
    "\n",
    "Now we can iteratively\n",
    "1. calculate the gradient with respect to the weights\n",
    "2. change the weights by a small factor (the learning rate) along their **negative** gradient (minimise $J$)\n",
    "3. recalculate $J$ with the updated weights\n",
    "4. repeat for a fixed number of steps or the weights are considered *converged*"
   ]
  },
  {
   "cell_type": "code",
   "execution_count": 25,
   "metadata": {},
   "outputs": [],
   "source": [
    "learning_rate = 0.1\n",
    "N_steps = 100"
   ]
  },
  {
   "cell_type": "code",
   "execution_count": 26,
   "metadata": {},
   "outputs": [
    {
     "name": "stdout",
     "output_type": "stream",
     "text": [
      "57.835657891702766\n",
      "0.28125073934893247\n",
      "0.2338275678391477\n",
      "0.19900678945064385\n",
      "0.17258792274841414\n",
      "0.15198157270925763\n",
      "0.1355295173019795\n",
      "0.12213192567177206\n",
      "0.11103602827670456\n",
      "0.10171203937564179\n",
      "0.09377780753975809\n",
      "0.08695160141974809\n",
      "0.08102166628468263\n",
      "0.0758260779659329\n",
      "0.0712390941518247\n",
      "0.06716170872633921\n",
      "0.06351498751523824\n",
      "0.06023528324613473\n",
      "0.057270744473189465\n",
      "0.05457873108554649\n",
      "Final weights: [-0.08477172  8.43870486  6.85050627]\n"
     ]
    }
   ],
   "source": [
    "for i in range(N_steps):\n",
    "    if i % 5 == 0:\n",
    "        print(cross_entropy(T, Y))\n",
    "    W += learning_rate * np.dot((T - Y).T, Xb) # follow the negative gradient!\n",
    "    Y = sigmoid(Xb.dot(W)) # Calculate the new output based on the updated weights\n",
    "\n",
    "print(' '.join(['Final weights:', str(W)]))"
   ]
  },
  {
   "cell_type": "markdown",
   "metadata": {},
   "source": [
    "low error, but weights far away from closed-form solution! Partially, this is due to the small number of samples. Increasing the amount of training data and regularisation can help. \n",
    "\n",
    "## Regularisation\n",
    "Minimising the objective function $J$ favors large weights ($\\rightarrow \\; \\infty$). This can be partially addressed by adding a penalty term on the L2-norm of the weight vector ($||\\mathbf{w}||^2=w^Tw$) to the objective function (also called **ridge regularisation**)\n",
    "\n",
    "**L2 regularisation**: $$J_{\\text{RIDGE}}=J+\\lambda ||\\mathbf{w}||^2$$\n",
    "\n",
    "Another form of regularisation tries to set as many weights as possible to zero. This is achieved through adding the L1-norm of the weight vector ($|\\mathbf{w}|=\\sum_j|w_j|$) (also called **lasso regularisation**) to the objective function:\n",
    "\n",
    "**L1 regularisation**: $$J_{\\text{LASSO}}=J+\\lambda |\\mathbf{w}|$$\n",
    "This is particularly useful for large number of features compared to the number of training samples.\n",
    "\n",
    "\n",
    "## Multiclass and Multilabel\n",
    "Standard logistic regression is a binary classifier. It can be extended to multinomial distributions with the Softmax activation function. But still, each sample can only belong to one class.\n",
    "\n",
    "For multiclass-multilabel classification (each sample can be assigned to multiple classes) one binary logistic regression model can be trained per class. Each model is trained on the data belonging to the respective class versus the data belonging to all other classes, it is therefore called one-versus-rest or one-versus-all strategy. This works under the assumption that the individual classes are independent.\n",
    "\n",
    "Other classifiers are inherently multiclass-multilabel. Decision trees, for example, or Neural Networks with a sigmoid output layer."
   ]
  },
  {
   "cell_type": "code",
   "execution_count": null,
   "metadata": {},
   "outputs": [],
   "source": []
  }
 ],
 "metadata": {
  "kernelspec": {
   "display_name": "Python 3",
   "language": "python",
   "name": "python3"
  },
  "language_info": {
   "codemirror_mode": {
    "name": "ipython",
    "version": 3
   },
   "file_extension": ".py",
   "mimetype": "text/x-python",
   "name": "python",
   "nbconvert_exporter": "python",
   "pygments_lexer": "ipython3",
   "version": "3.7.0"
  }
 },
 "nbformat": 4,
 "nbformat_minor": 4
}
