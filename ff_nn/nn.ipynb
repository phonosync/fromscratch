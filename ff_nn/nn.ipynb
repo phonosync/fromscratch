{
 "cells": [
  {
   "cell_type": "markdown",
   "metadata": {},
   "source": [
    "# Feed-Forward Neural Network with 1 Hidden Layer\n",
    "## The Model\n",
    "<img src=\"pics/ff_nn.png\">\n",
    "\n",
    "## The Data"
   ]
  },
  {
   "cell_type": "markdown",
   "metadata": {},
   "source": []
  },
  {
   "cell_type": "markdown",
   "metadata": {},
   "source": [
    "## Implementation of the Forward-Pass"
   ]
  },
  {
   "cell_type": "code",
   "execution_count": null,
   "metadata": {},
   "outputs": [],
   "source": [
    "def forward(X, W, b, V, c):\n",
    "    Z = 1 / (1 + np.exp(-X.dot(W) - b))\n",
    "    A = Z.dot(V) + c\n",
    "    expA = np.exp(A)\n",
    "    Y = expA / expA.sum(axis=1, keepdims=True)\n",
    "    return Y, Z"
   ]
  },
  {
   "cell_type": "code",
   "execution_count": null,
   "metadata": {},
   "outputs": [],
   "source": []
  },
  {
   "cell_type": "markdown",
   "metadata": {},
   "source": [
    "## Parameter Optimisation\n",
    "Loss (Log-Likelihood to avoid carrying around the negative sign): $J=\\sum_{n=1}^N\\sum_{k=1}^K t_{nk}\\log y_{nk}$\n",
    "\n",
    "$n$ is the index for the sample (row) in $X$\n",
    "\n",
    "### Gradients with Respect to $V$ and $c$\n",
    "\n",
    "$$\\frac{\\partial J}{\\partial V_{mk}} = \\sum_{n=1}^N \\sum_{k'=1}^K \\frac{\\partial J_{nk'}}{\\partial y_{nk'}} \\frac{\\partial y_{nk'}}{\\partial a_{nk}} \\frac{\\partial a_{nk}}{\\partial V_{mk}}$$\n",
    "\n",
    "$$\\frac{\\partial J}{\\partial c_k} = \\sum_{n=1}^N \\sum_{k'=1}^K \\frac{\\partial J_{nk'}}{\\partial y_{nk'}} \\frac{\\partial y_{nk'}}{\\partial a_{nk}} \\frac{\\partial a_{nk}}{\\partial c_k}$$\n",
    "\n",
    "Copying over $\\frac{\\partial J_{nk'}}{\\partial y_{nk'}}$, $\\frac{\\partial y_{nk'}}{\\partial a_{nk}}$, $\\frac{\\partial J_{nk'}}{\\partial y_{nk'}}$ and $\\frac{\\partial y_{nk'}}{\\partial a_{nk}}$ from logistic regression and realising that\n",
    "$$\\frac{\\partial a_{nk}}{\\partial V_{mk}} = z_{nm}$$\n",
    "and\n",
    "$$\\frac{\\partial a_{nk}}{\\partial c_k} = 1$$\n",
    "\n",
    "leads to \n",
    "\n",
    "$$\\frac{\\partial J}{\\partial V_{mk}} = \\sum_{n=1}^N (t_{nk}-y_{nk})z_{nm}$$\n",
    "\n",
    "$$\\frac{\\partial J}{\\partial c_k} = \\sum_{n=1}^N (t_{nk}-y_{nk})$$\n",
    "\n",
    "in vector form:\n",
    "\n",
    "$$\\nabla_VJ=Z^T(T-Y)$$\n",
    "and the gradient with respect to $c$ directly in code:\n",
    "\n",
    "```python\n",
    "grad_c = np.sum(T-Y, axis=0)\n",
    "```\n",
    "\n",
    "### Gradients with Respect to $W$ and $b$\n",
    "\n",
    "$$\\frac{\\partial J}{\\partial W_{dm}} = \\sum_{k=1}^N \\sum_{n=1}^N \\sum_{k'=1}^K \\frac{\\partial J_{nk'}}{\\partial y_{nk'}} \\frac{\\partial y_{nk'}}{\\partial a_{nk}} \\frac{\\partial a_{nk}}{\\partial z_{mk}}\\frac{\\partial z_{nm}}{\\partial \\alpha_{nm}} \\frac{\\partial \\alpha_{nm}}{\\partial W_{dm}}$$\n",
    "\n",
    "Copying over $\\frac{\\partial J_{nk'}}{\\partial y_{nk'}}$, $\\frac{\\partial y_{nk'}}{\\partial a_{nk}}$ from logistic regression and realising that\n",
    "$$\\frac{\\partial a_{nk}}{\\partial z_{mk}} = V_{mk}$$\n",
    "and \n",
    "$$\\frac{\\partial \\alpha_{nm}}{\\partial W_{dm}}=x_{nd}$$\n",
    "\n",
    "$\\frac{\\partial z_{nm}}{\\partial \\alpha_{nm}}$ depends on the a choice of the activation function in the hidden layer:\n",
    "\n",
    "$$\\text{for sigmoid} \\; \\; \\rightarrow \\; \\; \\frac{\\partial z_{nm}}{\\partial \\alpha_{nm}}=z_{nm}(1-z_{nm})$$\n",
    "$$\\text{for tanh} \\; \\; \\rightarrow \\; \\; \\frac{\\partial z_{nm}}{\\partial \\alpha_{nm}}=1-z_{nm}^2$$\n",
    "$$\\text{for relu} \\; \\; \\rightarrow \\; \\; \\frac{\\partial z_{nm}}{\\partial \\alpha_{nm}}=step function(z_nm)$$\n",
    "\n",
    "with sigmoid:\n",
    "$$\\frac{\\partial J}{\\partial W_{dm}} = \\sum_{k=1}^N \\sum_{n=1}^N (t_{nk}-y_{nk})V_{mk}(1-z_{nm}) x_{nd}$$\n",
    "\n",
    "With respect to the bias term:\n",
    "$$\\frac{\\partial J}{\\partial b_{m}} = \\sum_{k=1}^N \\sum_{n=1}^N (t_{nk}-y_{nk})V_{mk}(1-z_{nm})$$\n",
    "\n",
    "Expressing it in Vector Form:\n",
    "$$\\nabla_WJ=X^T \\{[(T-Y)V^T] \\odot Z \\odot (1-Z)\\}$$\n",
    "\n",
    "```python\n",
    "grad_b = np.sum((T-Y).dot(V.T) * Z * (1-Z), axis=0)\n",
    "```\n"
   ]
  },
  {
   "cell_type": "code",
   "execution_count": null,
   "metadata": {},
   "outputs": [],
   "source": []
  },
  {
   "cell_type": "code",
   "execution_count": 1,
   "metadata": {},
   "outputs": [],
   "source": [
    "def classification_rate(Y, P):\n",
    "    # num correct/num total\n",
    "    n_total = len(Y)\n",
    "    n_correct = 0\n",
    "    for i in range(n_total):\n",
    "        if Y[i] == P[i]:\n",
    "            n_correct += 1\n",
    "    return float(n_correct) / n_total"
   ]
  },
  {
   "cell_type": "code",
   "execution_count": null,
   "metadata": {},
   "outputs": [],
   "source": []
  }
 ],
 "metadata": {
  "kernelspec": {
   "display_name": "Python 3",
   "language": "python",
   "name": "python3"
  },
  "language_info": {
   "codemirror_mode": {
    "name": "ipython",
    "version": 3
   },
   "file_extension": ".py",
   "mimetype": "text/x-python",
   "name": "python",
   "nbconvert_exporter": "python",
   "pygments_lexer": "ipython3",
   "version": "3.7.0"
  }
 },
 "nbformat": 4,
 "nbformat_minor": 4
}
