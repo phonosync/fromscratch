{
 "cells": [
  {
   "cell_type": "markdown",
   "metadata": {},
   "source": [
    "## Recap Matrix Multiplication\n",
    "Produces a matrix from two matrices\n",
    "\n",
    "<img src=\"pics/mmult.png\">\n",
    "The number of columns in the first matrix (m) must be equal to the number of rows in the second matrix. The result matrix has the number of rows of the first (l) and the number of columns of the second matrix (n).  \n",
    "\n",
    "\n",
    "If $\\mathbf{A}$ is an $m \\times n$ matrix and $\\mathbf{B}$ is an $n \\times p$ matrix\n",
    "$$\n",
    "\\mathbf{A}=\\begin{pmatrix}\n",
    " a_{11} & a_{12} & \\cdots & a_{1n} \\\\\n",
    " a_{21} & a_{22} & \\cdots & a_{2n} \\\\\n",
    "\\vdots & \\vdots & \\ddots & \\vdots \\\\\n",
    " a_{m1} & a_{m2} & \\cdots & a_{mn} \\\\\n",
    "\\end{pmatrix},\\quad\\mathbf{B}=\\begin{pmatrix}\n",
    " b_{11} & b_{12} & \\cdots & b_{1p} \\\\\n",
    " b_{21} & b_{22} & \\cdots & b_{2p} \\\\\n",
    "\\vdots & \\vdots & \\ddots & \\vdots \\\\\n",
    " b_{n1} & b_{n2} & \\cdots & b_{np} \\\\\n",
    "\\end{pmatrix}\n",
    "$$\n",
    "\n",
    "the matrix product $\\mathbf{C} = \\mathbf{AB}$ is defined to be the $m \\times p$\n",
    "\n",
    "$\\mathbf{C}=\\begin{pmatrix}\n",
    " c_{11} & c_{12} & \\cdots & c_{1p} \\\\\n",
    " c_{21} & c_{22} & \\cdots & c_{2p} \\\\\n",
    "\\vdots & \\vdots & \\ddots & \\vdots \\\\\n",
    " c_{m1} & c_{m2} & \\cdots & c_{mp} \\\\\n",
    "\\end{pmatrix}$\n",
    "\n",
    "such that \n",
    "$$c_{ij} = a_{i1}b_{1j} + a_{i2}b_{2j} +\\cdots + a_{in}b_{nj}= \\sum_{k=1}^n a_{ik}b_{kj} \\;\\;\\; \\text{for}\\ i = 1, ..., m\\ \\text{and}\\ j = 1, ..., p.$$\n",
    "\n",
    "<img src=\"pics/mmultillust.png\">\n",
    "\n",
    "The corresponding operation on vectors is referred to as dot product or scalar product. If two vectors $\\mathbf{\\color{red}a} = \\left[\\color{red}a_\\color{red}1, \\color{red}a_\\color{red}2, ..., \\color{red}a_\\color{red}n\\right]$ and $\\mathbf{\\color{blue}b} = \\left[\\color{blue}b_\\color{blue}1, \\color{blue}b_\\color{blue}2, ..., \\color{blue}b_\\color{blue}n\\right]$\n",
    "\n",
    "are identified as row matrices:\n",
    "\n",
    "$$\\begin{align}\n",
    "\\mathbf{\\color{red}a} \\cdot \\mathbf{\\color{blue}b} &= \\mathbf{\\color{red}a}\\mathbf{\\color{blue}b}^\\top\\\\\n",
    "&=\\sum_{i=1}^n {\\color{red}a}_i{\\color{blue}b}_i\\\\\n",
    "&={\\color{red}a}_1{\\color{blue}b}_1+{\\color{red}a}_2{\\color{blue}b}_2+\\cdots+{\\color{red}a}_n{\\color{blue}b}_n \\\\\n",
    "\\end{align}$$\n",
    "\n",
    "Source: https://en.wikipedia.org/wiki/Matrix_multiplication and https://en.wikipedia.org/wiki/Dot_product"
   ]
  },
  {
   "cell_type": "code",
   "execution_count": null,
   "metadata": {},
   "outputs": [],
   "source": []
  }
 ],
 "metadata": {
  "kernelspec": {
   "display_name": "Python 3",
   "language": "python",
   "name": "python3"
  },
  "language_info": {
   "codemirror_mode": {
    "name": "ipython",
    "version": 3
   },
   "file_extension": ".py",
   "mimetype": "text/x-python",
   "name": "python",
   "nbconvert_exporter": "python",
   "pygments_lexer": "ipython3",
   "version": "3.7.0"
  }
 },
 "nbformat": 4,
 "nbformat_minor": 4
}
