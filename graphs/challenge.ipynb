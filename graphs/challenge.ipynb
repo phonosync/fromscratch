{
 "cells": [
  {
   "cell_type": "markdown",
   "metadata": {},
   "source": [
    "directed graph\n",
    "\n",
    "no loops\n",
    "\n",
    "array of arrays\n",
    "\n",
    "I get the starting node\n",
    "and destination\n",
    "\n",
    "compute the last city in the trip"
   ]
  },
  {
   "cell_type": "markdown",
   "metadata": {},
   "source": [
    "ou are given the array paths, where paths[i] = [cityAi, cityBi] means there exists a direct path going from cityAi to cityBi. Return the destination city, that is, the city without any path outgoing to another city.\n",
    "\n",
    "It is guaranteed that the graph of paths forms a line without any loop, therefore, there will be exactly one destination city.\n",
    "\n",
    "Input: paths = [[\"London\",\"New York\"],[\"New York\",\"Lima\"],[\"Lima\",\"Sao Paulo\"]]\n",
    "Output: \"Sao Paulo\"\n",
    "\n",
    "[[\"London\",\"New York\"],[\"New York\",\"Lima\"],[\"Lima\",\"Sao Paulo\"]]\n",
    "\"Sao Paulo\"\n",
    "\n",
    "[[\"B\",\"C\"],[\"D\",\"B\"],[\"C\",\"A\"]]\n",
    "\"A\"\n",
    "\n",
    "\n",
    "[[\"A\",\"Z\"]]\n",
    "\"Z\"\n",
    "\n",
    "\n",
    "[[\"A\",\"B\"],[\"B\",\"C\"],[\"D\",\"E\"],[\"C\",\"D\"]]\n",
    "\"E\""
   ]
  },
  {
   "cell_type": "code",
   "execution_count": 1,
   "metadata": {},
   "outputs": [],
   "source": [
    "def find_not_outgoing(rels):\n",
    "    have_outgoing = set([rel[0] for rel in rels])\n",
    "    set_all_nodes = set([el for rel in rels for el in rel])\n",
    "    return set_all_nodes - have_outgoing"
   ]
  },
  {
   "cell_type": "code",
   "execution_count": 5,
   "metadata": {},
   "outputs": [
    {
     "data": {
      "text/plain": [
       "{'E'}"
      ]
     },
     "execution_count": 5,
     "metadata": {},
     "output_type": "execute_result"
    }
   ],
   "source": [
    "find_not_outgoing([[\"A\",\"B\"],[\"B\",\"C\"],[\"D\",\"E\"],[\"C\",\"D\"]])"
   ]
  },
  {
   "cell_type": "markdown",
   "metadata": {},
   "source": [
    "Given a directed, acyclic graph of N nodes.  Find all possible paths from node 0 to node N-1, and return them in any order.\n",
    "\n",
    "The graph is given as follows:  the nodes are 0, 1, ..., graph.length - 1.  graph[i] is a list of all nodes j for which the edge (i, j) exists.\n",
    "\n",
    "find all possible paths from node 0 to node n-1\n",
    "\n",
    "4 nodes\n",
    "[[1,2], [3], [3], []] \n",
    "all possible paths: [[0,1,3],[0,2,3]]"
   ]
  },
  {
   "cell_type": "code",
   "execution_count": 6,
   "metadata": {},
   "outputs": [],
   "source": [
    "network = [[1,2], [3], [3], []] "
   ]
  },
  {
   "cell_type": "code",
   "execution_count": null,
   "metadata": {},
   "outputs": [],
   "source": [
    "def all_paths(graph):\n",
    "    \n",
    "    node = graph[-1]\n",
    "    \n",
    "    \n",
    "    start = graph[0]\n",
    "    \n",
    "    paths = []\n",
    "    \n",
    "    seen = set()\n",
    "    stack = [start]\n",
    "    \n",
    "    while stack:\n",
    "        n_id = stack.pop()\n",
    "        \n",
    "        neighbours = graph[n_id]\n",
    "        \n",
    "        path.append(n_id)\n",
    "    \n",
    "    return all_paths(node)\n",
    "        "
   ]
  }
 ],
 "metadata": {
  "kernelspec": {
   "display_name": "Python 3",
   "language": "python",
   "name": "python3"
  },
  "language_info": {
   "codemirror_mode": {
    "name": "ipython",
    "version": 3
   },
   "file_extension": ".py",
   "mimetype": "text/x-python",
   "name": "python",
   "nbconvert_exporter": "python",
   "pygments_lexer": "ipython3",
   "version": "3.7.6"
  }
 },
 "nbformat": 4,
 "nbformat_minor": 4
}
