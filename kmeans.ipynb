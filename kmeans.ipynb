{
 "cells": [
  {
   "cell_type": "markdown",
   "metadata": {},
   "source": [
    "# K-Means Clustering"
   ]
  },
  {
   "cell_type": "code",
   "execution_count": 1,
   "metadata": {},
   "outputs": [],
   "source": [
    "import numpy as np\n",
    "import matplotlib.pyplot as plt"
   ]
  },
  {
   "cell_type": "markdown",
   "metadata": {},
   "source": [
    "## The Data"
   ]
  },
  {
   "cell_type": "code",
   "execution_count": 2,
   "metadata": {},
   "outputs": [],
   "source": [
    "N = 100 # number of samples\n",
    "D = 2 # number of features/dimensions\n",
    "\n",
    "N_0 = int(N/2) # number of samples for class 0\n",
    "N_1 = int(N/2) # number of samples for class 1\n",
    "\n",
    "mu_0 = [-2,-2]\n",
    "variance = 1\n",
    "\n",
    "mu_1 = [2,2]\n",
    "\n",
    "m_cov = [[variance, 0],\n",
    "         [0, variance]]"
   ]
  },
  {
   "cell_type": "code",
   "execution_count": 3,
   "metadata": {},
   "outputs": [
    {
     "data": {
      "text/plain": [
       "(100, 2)"
      ]
     },
     "execution_count": 3,
     "metadata": {},
     "output_type": "execute_result"
    }
   ],
   "source": [
    "np.random.seed(41) # make the results reproducible\n",
    "X = np.concatenate([np.random.multivariate_normal(mu_0, m_cov, N_0),\n",
    "                    np.random.multivariate_normal(mu_1, m_cov, N_1)],\n",
    "                   axis=0)\n",
    "X.shape"
   ]
  },
  {
   "cell_type": "markdown",
   "metadata": {},
   "source": [
    "The labels:"
   ]
  },
  {
   "cell_type": "code",
   "execution_count": 4,
   "metadata": {},
   "outputs": [],
   "source": [
    "T = np.array([0]*N_0 + [1]*N_1)"
   ]
  },
  {
   "cell_type": "markdown",
   "metadata": {},
   "source": [
    "Scatter plot:"
   ]
  },
  {
   "cell_type": "code",
   "execution_count": 5,
   "metadata": {},
   "outputs": [
    {
     "data": {
      "image/png": "[encoded data removed]",
      "text/plain": [
       "<Figure size 432x288 with 1 Axes>"
      ]
     },
     "metadata": {
      "needs_background": "light"
     },
     "output_type": "display_data"
    }
   ],
   "source": [
    "colors = ['blue', 'orange']\n",
    "for i, color in enumerate(colors):\n",
    "    i_samples = X[T == i]\n",
    "    plt.scatter(i_samples[:,0], i_samples[:,1], c=color, alpha=0.5, label=str(i))\n",
    "\n",
    "plt.legend()\n",
    "plt.grid(True)\n",
    "plt.show()"
   ]
  },
  {
   "cell_type": "markdown",
   "metadata": {},
   "source": [
    "## The Algorithm\n",
    "\n",
    "$k$: The number of clusters\n",
    "1. Randomly assign positions for the initial $k$-means\n",
    "2. Assign each data sample to the mean to which it is closest\n",
    "3. If no sample's assignment has changed, stop and keep the clusters. Otherwise re-calculate the means based on the new assignments and repeat from step 2"
   ]
  },
  {
   "cell_type": "code",
   "execution_count": 6,
   "metadata": {},
   "outputs": [],
   "source": [
    "K=2"
   ]
  },
  {
   "cell_type": "markdown",
   "metadata": {},
   "source": [
    "1. The Initial $k$-means"
   ]
  },
  {
   "cell_type": "code",
   "execution_count": 7,
   "metadata": {},
   "outputs": [],
   "source": [
    "def squared_distance(x, y):\n",
    "    return np.sum((y-x)**2)"
   ]
  },
  {
   "cell_type": "code",
   "execution_count": 8,
   "metadata": {},
   "outputs": [],
   "source": [
    "def vector_mean(vecs):\n",
    "    np.mean(vecs, axis=1)"
   ]
  },
  {
   "cell_type": "code",
   "execution_count": 9,
   "metadata": {},
   "outputs": [],
   "source": [
    "def assign_label(sample):\n",
    "    return min(range(K), key=lambda i: squared_distance(sample, means[i]))"
   ]
  },
  {
   "cell_type": "code",
   "execution_count": 10,
   "metadata": {},
   "outputs": [
    {
     "data": {
      "text/plain": [
       "array([[-0.63214899, -3.85873942],\n",
       "       [ 1.96203785,  2.01285565]])"
      ]
     },
     "execution_count": 10,
     "metadata": {},
     "output_type": "execute_result"
    }
   ],
   "source": [
    "means = X[np.random.randint(len(X), size=K),:]\n",
    "means"
   ]
  },
  {
   "cell_type": "code",
   "execution_count": 11,
   "metadata": {},
   "outputs": [],
   "source": [
    "max_n_iter = 100\n",
    "assignments = None\n",
    "\n",
    "n_iter = 0\n",
    "while True:\n",
    "    new_assignments = np.apply_along_axis(func1d=assign_label, axis=1, arr=X)\n",
    "\n",
    "    if np.array_equal(assignments, new_assignments):\n",
    "        break\n",
    "\n",
    "    assignments = new_assignments\n",
    "\n",
    "    for i in range(K):\n",
    "        # find all the points assigned to cluster i\n",
    "\n",
    "        i_samples = X[assignments == i]\n",
    "\n",
    "        if len(i_samples) > 0:\n",
    "            means[i] = np.mean(i_samples, axis=0)\n",
    "    n_iter += 1\n",
    "    if n_iter >= max_n_iter:\n",
    "        break"
   ]
  },
  {
   "cell_type": "code",
   "execution_count": 12,
   "metadata": {},
   "outputs": [
    {
     "data": {
      "text/plain": [
       "array([0, 0, 0, 0, 0, 0, 0, 0, 0, 0, 0, 0, 0, 0, 0, 0, 0, 0, 0, 0, 0, 0,\n",
       "       0, 0, 0, 0, 0, 0, 0, 0, 0, 0, 0, 0, 0, 0, 0, 0, 0, 0, 0, 0, 0, 0,\n",
       "       0, 0, 0, 0, 0, 0, 1, 1, 1, 1, 1, 1, 1, 1, 1, 1, 1, 1, 1, 1, 1, 1,\n",
       "       1, 1, 1, 1, 1, 1, 1, 1, 1, 1, 1, 1, 1, 1, 1, 1, 1, 1, 1, 1, 1, 1,\n",
       "       1, 1, 1, 1, 1, 1, 1, 1, 1, 1, 1, 1])"
      ]
     },
     "execution_count": 12,
     "metadata": {},
     "output_type": "execute_result"
    }
   ],
   "source": [
    "assignments"
   ]
  },
  {
   "cell_type": "code",
   "execution_count": 13,
   "metadata": {},
   "outputs": [
    {
     "data": {
      "image/png": "[encoded data removed]",
      "text/plain": [
       "<Figure size 432x288 with 1 Axes>"
      ]
     },
     "metadata": {
      "needs_background": "light"
     },
     "output_type": "display_data"
    }
   ],
   "source": [
    "colors = ['blue', 'orange']\n",
    "for k in range(K):\n",
    "    i_samples = X[assignments == k]\n",
    "    plt.scatter(i_samples[:,0], i_samples[:,1], c=colors[k], alpha=0.5, label=str(k))\n",
    "plt.legend()\n",
    "plt.grid(True)\n",
    "plt.show()"
   ]
  },
  {
   "cell_type": "code",
   "execution_count": null,
   "metadata": {},
   "outputs": [],
   "source": []
  },
  {
   "cell_type": "code",
   "execution_count": null,
   "metadata": {},
   "outputs": [],
   "source": []
  },
  {
   "cell_type": "code",
   "execution_count": 17,
   "metadata": {},
   "outputs": [
    {
     "data": {
      "image/png": "[encoded data removed]",
      "text/plain": [
       "<Figure size 432x288 with 1 Axes>"
      ]
     },
     "metadata": {
      "needs_background": "light"
     },
     "output_type": "display_data"
    }
   ],
   "source": [
    "mu_0 = [0,-3]\n",
    "variance = 1\n",
    "\n",
    "mu_1 = [1,2]\n",
    "\n",
    "m_cov = [[1, 0.8],\n",
    "         [0.8, 1]]\n",
    "\n",
    "np.random.seed(41) # make the results reproducible\n",
    "X = np.concatenate([np.random.multivariate_normal(mu_0, m_cov, N_0),\n",
    "                    np.random.multivariate_normal(mu_1, m_cov, N_1)],\n",
    "                   axis=0)\n",
    "X.shape\n",
    "\n",
    "T = np.array([0]*N_0 + [1]*N_1)\n",
    "\n",
    "colors = ['blue', 'orange']\n",
    "for i, color in enumerate(colors):\n",
    "    i_samples = X[T == i]\n",
    "    plt.scatter(i_samples[:,0], i_samples[:,1], c=color, alpha=0.5, label=str(i))\n",
    "\n",
    "plt.legend()\n",
    "plt.grid(True)\n",
    "plt.show()"
   ]
  },
  {
   "cell_type": "code",
   "execution_count": 18,
   "metadata": {},
   "outputs": [],
   "source": [
    "K=2"
   ]
  },
  {
   "cell_type": "code",
   "execution_count": 19,
   "metadata": {},
   "outputs": [
    {
     "data": {
      "text/plain": [
       "array([[-0.70987239, -4.88544242],\n",
       "       [ 1.03194875,  2.04007937]])"
      ]
     },
     "execution_count": 19,
     "metadata": {},
     "output_type": "execute_result"
    }
   ],
   "source": [
    "means = X[np.random.randint(len(X), size=K),:]\n",
    "means"
   ]
  },
  {
   "cell_type": "code",
   "execution_count": 20,
   "metadata": {},
   "outputs": [],
   "source": [
    "max_n_iter = 100\n",
    "assignments = None\n",
    "\n",
    "n_iter = 0\n",
    "while True:\n",
    "    new_assignments = np.apply_along_axis(func1d=assign_label, axis=1, arr=X)\n",
    "\n",
    "    if np.array_equal(assignments, new_assignments):\n",
    "        break\n",
    "\n",
    "    assignments = new_assignments\n",
    "\n",
    "    for i in range(K):\n",
    "        # find all the points assigned to cluster i\n",
    "\n",
    "        i_samples = X[assignments == i]\n",
    "\n",
    "        if len(i_samples) > 0:\n",
    "            means[i] = np.mean(i_samples, axis=0)\n",
    "    n_iter += 1\n",
    "    if n_iter >= max_n_iter:\n",
    "        break"
   ]
  },
  {
   "cell_type": "code",
   "execution_count": 21,
   "metadata": {},
   "outputs": [
    {
     "data": {
      "text/plain": [
       "array([0, 0, 0, 0, 0, 0, 0, 0, 0, 0, 0, 0, 0, 0, 0, 0, 0, 0, 0, 0, 0, 0,\n",
       "       0, 0, 0, 0, 0, 0, 0, 0, 0, 0, 0, 0, 0, 0, 0, 0, 0, 0, 0, 0, 0, 0,\n",
       "       0, 0, 0, 0, 0, 0, 1, 1, 1, 1, 1, 1, 1, 1, 1, 1, 1, 1, 1, 1, 1, 1,\n",
       "       1, 1, 1, 1, 1, 1, 1, 1, 1, 1, 1, 1, 1, 1, 1, 1, 1, 1, 1, 1, 1, 1,\n",
       "       1, 1, 1, 1, 1, 1, 1, 1, 1, 0, 1, 1])"
      ]
     },
     "execution_count": 21,
     "metadata": {},
     "output_type": "execute_result"
    }
   ],
   "source": [
    "assignments"
   ]
  },
  {
   "cell_type": "code",
   "execution_count": 22,
   "metadata": {},
   "outputs": [
    {
     "data": {
      "text/plain": [
       "array([[ 0.02742679, -3.07375287],\n",
       "       [ 0.88512332,  1.84741264]])"
      ]
     },
     "execution_count": 22,
     "metadata": {},
     "output_type": "execute_result"
    }
   ],
   "source": [
    "means"
   ]
  },
  {
   "cell_type": "code",
   "execution_count": 23,
   "metadata": {},
   "outputs": [
    {
     "data": {
      "image/png": "[encoded data removed]",
      "text/plain": [
       "<Figure size 432x288 with 1 Axes>"
      ]
     },
     "metadata": {
      "needs_background": "light"
     },
     "output_type": "display_data"
    }
   ],
   "source": [
    "colors = ['blue', 'orange']\n",
    "for k in range(K):\n",
    "    i_samples = X[assignments == k]\n",
    "    plt.scatter(i_samples[:,0], i_samples[:,1], c=colors[k], alpha=0.5, label=str(k))\n",
    "plt.scatter(means[:,0], means[:,1], c='black', label='means')\n",
    "plt.legend()\n",
    "plt.grid(True)\n",
    "plt.show()"
   ]
  },
  {
   "cell_type": "code",
   "execution_count": null,
   "metadata": {},
   "outputs": [],
   "source": []
  }
 ],
 "metadata": {
  "kernelspec": {
   "display_name": "Python 3",
   "language": "python",
   "name": "python3"
  },
  "language_info": {
   "codemirror_mode": {
    "name": "ipython",
    "version": 3
   },
   "file_extension": ".py",
   "mimetype": "text/x-python",
   "name": "python",
   "nbconvert_exporter": "python",
   "pygments_lexer": "ipython3",
   "version": "3.7.6"
  }
 },
 "nbformat": 4,
 "nbformat_minor": 4
}
